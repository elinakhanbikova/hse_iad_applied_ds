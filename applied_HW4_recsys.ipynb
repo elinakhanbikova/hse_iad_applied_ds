{
  "cells": [
    {
      "cell_type": "markdown",
      "id": "ee35127e",
      "metadata": {
        "id": "ee35127e"
      },
      "source": [
        "# Прикладные задачи анализа данных\n",
        "\n",
        "## Домашнее задание 4\n",
        "\n",
        "В этой работе мы будем решать задачу рекомендаций музыки. Для этого мы реализуем метод коллаборативной фильтрации и модель со скрытыми переменными, сравним их между собой и попытаемся сделать выводы. Во всех заданиях разрешается переписывать код по своему усмотрению, предложенные шаблоны несут лишь рекомендательный характер."
      ]
    },
    {
      "cell_type": "code",
      "execution_count": null,
      "id": "75f6503b",
      "metadata": {
        "id": "75f6503b"
      },
      "outputs": [],
      "source": [
        "from sklearn.preprocessing import LabelEncoder\n",
        "\n",
        "import pandas as pd\n",
        "import numpy as np\n",
        "from tqdm.notebook import tqdm\n",
        "from typing import Callable, List\n",
        "\n",
        "import matplotlib.pyplot as plt\n",
        "import seaborn as sns\n",
        "import scipy.sparse as scs"
      ]
    },
    {
      "cell_type": "code",
      "execution_count": null,
      "id": "q39kPlJ6jsQc",
      "metadata": {
        "colab": {
          "base_uri": "https://localhost:8080/",
          "height": 204
        },
        "id": "q39kPlJ6jsQc",
        "outputId": "67fc7d37-90b0-4c9a-fb3d-f75ad031ed81"
      },
      "outputs": [
        {
          "data": {
            "text/html": [
              "<div>\n",
              "<style scoped>\n",
              "    .dataframe tbody tr th:only-of-type {\n",
              "        vertical-align: middle;\n",
              "    }\n",
              "\n",
              "    .dataframe tbody tr th {\n",
              "        vertical-align: top;\n",
              "    }\n",
              "\n",
              "    .dataframe thead th {\n",
              "        text-align: right;\n",
              "    }\n",
              "</style>\n",
              "<table border=\"1\" class=\"dataframe\">\n",
              "  <thead>\n",
              "    <tr style=\"text-align: right;\">\n",
              "      <th></th>\n",
              "      <th>userId</th>\n",
              "      <th>trackId</th>\n",
              "    </tr>\n",
              "  </thead>\n",
              "  <tbody>\n",
              "    <tr>\n",
              "      <th>0</th>\n",
              "      <td>0</td>\n",
              "      <td>14</td>\n",
              "    </tr>\n",
              "    <tr>\n",
              "      <th>1</th>\n",
              "      <td>0</td>\n",
              "      <td>95</td>\n",
              "    </tr>\n",
              "    <tr>\n",
              "      <th>2</th>\n",
              "      <td>0</td>\n",
              "      <td>219</td>\n",
              "    </tr>\n",
              "    <tr>\n",
              "      <th>3</th>\n",
              "      <td>0</td>\n",
              "      <td>220</td>\n",
              "    </tr>\n",
              "    <tr>\n",
              "      <th>4</th>\n",
              "      <td>0</td>\n",
              "      <td>404</td>\n",
              "    </tr>\n",
              "  </tbody>\n",
              "</table>\n",
              "</div>"
            ],
            "text/plain": [
              "   userId  trackId\n",
              "0       0       14\n",
              "1       0       95\n",
              "2       0      219\n",
              "3       0      220\n",
              "4       0      404"
            ]
          },
          "execution_count": 2,
          "metadata": {},
          "output_type": "execute_result"
        }
      ],
      "source": [
        "ratings = pd.read_csv('music_dataset.csv')\n",
        "ratings.head()"
      ]
    },
    {
      "cell_type": "code",
      "execution_count": null,
      "id": "PgGrUf6TSvHC",
      "metadata": {
        "colab": {
          "base_uri": "https://localhost:8080/",
          "height": 204
        },
        "id": "PgGrUf6TSvHC",
        "outputId": "2bdd725a-c737-4f08-f520-4fcd94dca36b"
      },
      "outputs": [
        {
          "data": {
            "text/html": [
              "<div>\n",
              "<style scoped>\n",
              "    .dataframe tbody tr th:only-of-type {\n",
              "        vertical-align: middle;\n",
              "    }\n",
              "\n",
              "    .dataframe tbody tr th {\n",
              "        vertical-align: top;\n",
              "    }\n",
              "\n",
              "    .dataframe thead th {\n",
              "        text-align: right;\n",
              "    }\n",
              "</style>\n",
              "<table border=\"1\" class=\"dataframe\">\n",
              "  <thead>\n",
              "    <tr style=\"text-align: right;\">\n",
              "      <th></th>\n",
              "      <th>id</th>\n",
              "      <th>name</th>\n",
              "      <th>artists</th>\n",
              "    </tr>\n",
              "  </thead>\n",
              "  <tbody>\n",
              "    <tr>\n",
              "      <th>0</th>\n",
              "      <td>0</td>\n",
              "      <td>What There Is</td>\n",
              "      <td>['a-ha']</td>\n",
              "    </tr>\n",
              "    <tr>\n",
              "      <th>1</th>\n",
              "      <td>1</td>\n",
              "      <td>I'll Play The Blues For You</td>\n",
              "      <td>['Albert King']</td>\n",
              "    </tr>\n",
              "    <tr>\n",
              "      <th>2</th>\n",
              "      <td>2</td>\n",
              "      <td>Breaking Up Somebody's Home</td>\n",
              "      <td>['Albert King']</td>\n",
              "    </tr>\n",
              "    <tr>\n",
              "      <th>3</th>\n",
              "      <td>3</td>\n",
              "      <td>Imma Be</td>\n",
              "      <td>['Black Eyed Peas']</td>\n",
              "    </tr>\n",
              "    <tr>\n",
              "      <th>4</th>\n",
              "      <td>4</td>\n",
              "      <td>Boom Boom Pow</td>\n",
              "      <td>['Black Eyed Peas']</td>\n",
              "    </tr>\n",
              "  </tbody>\n",
              "</table>\n",
              "</div>"
            ],
            "text/plain": [
              "   id                         name              artists\n",
              "0   0                What There Is             ['a-ha']\n",
              "1   1  I'll Play The Blues For You      ['Albert King']\n",
              "2   2  Breaking Up Somebody's Home      ['Albert King']\n",
              "3   3                      Imma Be  ['Black Eyed Peas']\n",
              "4   4                Boom Boom Pow  ['Black Eyed Peas']"
            ]
          },
          "execution_count": 3,
          "metadata": {},
          "output_type": "execute_result"
        }
      ],
      "source": [
        "tracks_info = pd.read_csv('tracks_info.csv')\n",
        "tracks_info.head()"
      ]
    },
    {
      "cell_type": "markdown",
      "id": "SSvgStZZIEdz",
      "metadata": {
        "id": "SSvgStZZIEdz"
      },
      "source": [
        "Для оценки качества рекомендаций мы будем использовать метрику $MAP@k$.\n",
        "\n",
        "$$\n",
        "MAP@k = \\frac{1}{N} \\sum_{u = 1}^N AP_u@k\n",
        "$$\n",
        "$$\n",
        "AP_u@k = \\frac{1}{\\min(k, n_u)} \\sum_{i=1}^k r_u(i) p_u@i\n",
        "$$\n",
        "$$p_u@k = \\dfrac{1}{k}\\sum_{j=1}^k r_u(j)$$\n",
        "\n",
        "\n",
        "*   $N$ - количество пользователей.\n",
        "*   $n_u$ - число релевантных треков пользователя $u$ на тестовом промежутке.\n",
        "*   $r_u(i)$ - бинарная величина: относится ли трек на позиции $i$ к релевантным."
      ]
    },
    {
      "cell_type": "markdown",
      "id": "UDTWQLoKS3nA",
      "metadata": {
        "id": "UDTWQLoKS3nA"
      },
      "source": [
        "**Задание 1 (1 балл).** Реализуйте метрику $MAP@k$."
      ]
    },
    {
      "cell_type": "code",
      "execution_count": null,
      "id": "8YW8fMfnQY08",
      "metadata": {
        "id": "8YW8fMfnQY08",
        "scrolled": true
      },
      "outputs": [],
      "source": [
        "def get_pk(relevant: List[List[int]], predicted: List[List[int]], k: int) -> List[float]:\n",
        "    pk = []\n",
        "    for r, pr in zip(relevant, predicted):\n",
        "        pk.append(np.cumsum(np.isin(pr[:k], r)) / np.arange(1, k + 1))\n",
        "    return pk\n",
        "\n",
        "def get_apk(relevant: List[List[int]], predicted: List[List[int]], k: int) -> List[float]:\n",
        "    apk = []\n",
        "    pk = get_pk(relevant, predicted, k)\n",
        "    for r, pr, pku in zip(relevant, predicted, pk):\n",
        "        apk.append(np.sum(np.isin(pr[:k], r) * pku) / min(len(r), k))\n",
        "    return apk\n",
        "\n",
        "def mapk(relevant: List[List[int]], predicted: List[List[int]], k: int = 20) -> float:\n",
        "    apk = get_apk(relevant, predicted, k)\n",
        "    return np.mean(apk)"
      ]
    },
    {
      "cell_type": "code",
      "execution_count": null,
      "id": "JbKyNPk8TaIG",
      "metadata": {
        "id": "JbKyNPk8TaIG"
      },
      "outputs": [],
      "source": [
        "relevant = [\n",
        "    [1, 7, 6, 2, 8],\n",
        "    [1, 5, 4, 8],\n",
        "    [8, 2, 5]\n",
        "]\n",
        "\n",
        "pred = [\n",
        "    [8, 1, 5, 0, 7, 2, 9, 4],\n",
        "    [0, 1, 8, 5, 3, 4, 7, 9],\n",
        "    [9, 2, 0, 6, 8, 5, 3, 7]\n",
        "]\n",
        "\n",
        "assert round(mapk(relevant, pred, k=5), 4) == 0.4331"
      ]
    },
    {
      "cell_type": "markdown",
      "id": "WFYR-X49HlMl",
      "metadata": {
        "id": "WFYR-X49HlMl"
      },
      "source": [
        "Разделим данные на тренировочные и тестовые так, чтобы в теcтовый датасет попали 50 последних треков каждого пользователя."
      ]
    },
    {
      "cell_type": "code",
      "execution_count": null,
      "id": "TEzz_ym8Go_L",
      "metadata": {
        "id": "TEzz_ym8Go_L"
      },
      "outputs": [],
      "source": [
        "def train_test_split(ratings):\n",
        "    train_ratings, test_ratings = [], []\n",
        "    num_test_samples = 50\n",
        "\n",
        "    # getting train samples\n",
        "    for userId, user_data in tqdm(ratings.groupby('userId')):\n",
        "        train_ratings += [user_data[:-num_test_samples]]\n",
        "\n",
        "    train_ratings = pd.concat(train_ratings).reset_index(drop=True)\n",
        "    all_train_items = train_ratings['trackId'].unique()\n",
        "\n",
        "    # getting train samples\n",
        "    # we drop all tracks that are not presented it the training samples,\n",
        "    # because we won't be able to learn representations for them\n",
        "    for userId, user_data in tqdm(ratings.groupby('userId')):\n",
        "        test_items = user_data[-num_test_samples:]\n",
        "        test_items = test_items[np.isin(test_items['trackId'], all_train_items)]\n",
        "        test_ratings += [test_items]\n",
        "\n",
        "    test_ratings = pd.concat(test_ratings).reset_index(drop=True)\n",
        "\n",
        "    return train_ratings, test_ratings"
      ]
    },
    {
      "cell_type": "code",
      "execution_count": null,
      "id": "vuyiM1Lk4L-e",
      "metadata": {
        "colab": {
          "base_uri": "https://localhost:8080/",
          "height": 81,
          "referenced_widgets": [
            "1b31eda686b54f7ca8c66aef18c987f3",
            "c8a26ff7a9504ca7b9982a1fdc958364",
            "55a177c209e6414d8daae0aae25ab569",
            "5696660af0a04fbbb0743796bdd5f9b3",
            "35c5904b82544e9cac71cf7b0b67cc1e",
            "eac1572340b3491b987713ddf4fef228",
            "bc2f4104184749dbb7dcd2b5c6235238",
            "2943eba3c235416b809e23186d5625ef",
            "2ded17a125a44376abbe87ef29f2aa17",
            "0b2d687ab70343a999f3a37dfe030a9c",
            "2571c66c254d4a6c9ae5a20812e41641",
            "b1c919ee0c85468a89413d98d9926b50",
            "09367b7a291f4c81a93f79ac3bf09e9b",
            "3339a154ce00450b8d07b45eda2e887c",
            "41b564f7d67b4422abcd5ac9925eb1f2",
            "bfd4906b7ffc4ade9650aa96d140860a",
            "57bc2e2902994e799d4378888bdb342a",
            "4631243cc4dd4d1a8e3ffe3a8da29cf7",
            "a0cfdce0ec8544c49332cc831f67e777",
            "c5b91a082e7d40879f66b6685fdfcfe0",
            "f0fbd1b9ea074c1b9969417c02b32348",
            "7935cc6e74c14372a82276f0a28e4559",
            "1055d4263a5d4f7088ade4f46ae9c969",
            "7f3c68247c99429cabdf8aeb229751e6"
          ]
        },
        "id": "vuyiM1Lk4L-e",
        "outputId": "5e4220b9-9c9e-4dba-b85d-c12ebb3a2f7a"
      },
      "outputs": [
        {
          "data": {
            "application/vnd.jupyter.widget-view+json": {
              "model_id": "1055d4263a5d4f7088ade4f46ae9c969",
              "version_major": 2,
              "version_minor": 0
            },
            "text/plain": [
              "  0%|          | 0/241 [00:00<?, ?it/s]"
            ]
          },
          "metadata": {},
          "output_type": "display_data"
        },
        {
          "data": {
            "application/vnd.jupyter.widget-view+json": {
              "model_id": "7f3c68247c99429cabdf8aeb229751e6",
              "version_major": 2,
              "version_minor": 0
            },
            "text/plain": [
              "  0%|          | 0/241 [00:00<?, ?it/s]"
            ]
          },
          "metadata": {},
          "output_type": "display_data"
        }
      ],
      "source": [
        "train_ratings, test_ratings = train_test_split(ratings)"
      ]
    },
    {
      "cell_type": "markdown",
      "id": "P3ZVqBMjBqfe",
      "metadata": {
        "id": "P3ZVqBMjBqfe"
      },
      "source": [
        "Почистим табличку с информацией о треках и закодируем id треков так, чтобы они соответствовали их порядковому номеру."
      ]
    },
    {
      "cell_type": "code",
      "execution_count": null,
      "id": "-SCTsxeYwCO-",
      "metadata": {
        "id": "-SCTsxeYwCO-"
      },
      "outputs": [],
      "source": [
        "redundant_rows = np.where(~np.isin(tracks_info['id'], train_ratings['trackId'].unique()))[0]\n",
        "tracks_info.drop(redundant_rows, inplace=True)\n",
        "tracks_info = tracks_info.reset_index(drop=True)"
      ]
    },
    {
      "cell_type": "code",
      "execution_count": null,
      "id": "cVfC-rfU3J49",
      "metadata": {
        "id": "cVfC-rfU3J49"
      },
      "outputs": [],
      "source": [
        "def ids_encoder(ratings):\n",
        "    users = sorted(ratings['userId'].unique())\n",
        "    items = sorted(ratings['trackId'].unique())\n",
        "\n",
        "    # create users and items encoders\n",
        "    uencoder = LabelEncoder()\n",
        "    iencoder = LabelEncoder()\n",
        "\n",
        "    # fit users and items ids to the corresponding encoder\n",
        "    uencoder.fit(users)\n",
        "    iencoder.fit(items)\n",
        "\n",
        "    return uencoder, iencoder"
      ]
    },
    {
      "cell_type": "code",
      "execution_count": null,
      "id": "xw2VDBz9v6LT",
      "metadata": {
        "id": "xw2VDBz9v6LT"
      },
      "outputs": [],
      "source": [
        "uencoder, iencoder = ids_encoder(train_ratings)\n",
        "train_ratings['trackId'] = iencoder.transform(train_ratings['trackId'].tolist())\n",
        "test_ratings['trackId'] = iencoder.transform(test_ratings['trackId'].tolist())\n",
        "tracks_info['id'] = iencoder.transform(tracks_info['id'].tolist())"
      ]
    },
    {
      "cell_type": "code",
      "execution_count": null,
      "id": "GfjwnUWTuhRD",
      "metadata": {
        "colab": {
          "base_uri": "https://localhost:8080/",
          "height": 204
        },
        "id": "GfjwnUWTuhRD",
        "outputId": "a68791ba-ee61-4485-f6d6-d38bf7671393"
      },
      "outputs": [
        {
          "data": {
            "text/html": [
              "<div>\n",
              "<style scoped>\n",
              "    .dataframe tbody tr th:only-of-type {\n",
              "        vertical-align: middle;\n",
              "    }\n",
              "\n",
              "    .dataframe tbody tr th {\n",
              "        vertical-align: top;\n",
              "    }\n",
              "\n",
              "    .dataframe thead th {\n",
              "        text-align: right;\n",
              "    }\n",
              "</style>\n",
              "<table border=\"1\" class=\"dataframe\">\n",
              "  <thead>\n",
              "    <tr style=\"text-align: right;\">\n",
              "      <th></th>\n",
              "      <th>userId</th>\n",
              "      <th>trackId</th>\n",
              "    </tr>\n",
              "  </thead>\n",
              "  <tbody>\n",
              "    <tr>\n",
              "      <th>0</th>\n",
              "      <td>0</td>\n",
              "      <td>14</td>\n",
              "    </tr>\n",
              "    <tr>\n",
              "      <th>1</th>\n",
              "      <td>0</td>\n",
              "      <td>95</td>\n",
              "    </tr>\n",
              "    <tr>\n",
              "      <th>2</th>\n",
              "      <td>0</td>\n",
              "      <td>219</td>\n",
              "    </tr>\n",
              "    <tr>\n",
              "      <th>3</th>\n",
              "      <td>0</td>\n",
              "      <td>220</td>\n",
              "    </tr>\n",
              "    <tr>\n",
              "      <th>4</th>\n",
              "      <td>0</td>\n",
              "      <td>404</td>\n",
              "    </tr>\n",
              "  </tbody>\n",
              "</table>\n",
              "</div>"
            ],
            "text/plain": [
              "   userId  trackId\n",
              "0       0       14\n",
              "1       0       95\n",
              "2       0      219\n",
              "3       0      220\n",
              "4       0      404"
            ]
          },
          "execution_count": 11,
          "metadata": {},
          "output_type": "execute_result"
        }
      ],
      "source": [
        "train_ratings.head()"
      ]
    },
    {
      "cell_type": "code",
      "execution_count": null,
      "id": "rtV91NkmuizE",
      "metadata": {
        "colab": {
          "base_uri": "https://localhost:8080/",
          "height": 204
        },
        "id": "rtV91NkmuizE",
        "outputId": "4de6e82c-4ab0-43ff-c70a-dcabe5c9bd74"
      },
      "outputs": [
        {
          "data": {
            "text/html": [
              "<div>\n",
              "<style scoped>\n",
              "    .dataframe tbody tr th:only-of-type {\n",
              "        vertical-align: middle;\n",
              "    }\n",
              "\n",
              "    .dataframe tbody tr th {\n",
              "        vertical-align: top;\n",
              "    }\n",
              "\n",
              "    .dataframe thead th {\n",
              "        text-align: right;\n",
              "    }\n",
              "</style>\n",
              "<table border=\"1\" class=\"dataframe\">\n",
              "  <thead>\n",
              "    <tr style=\"text-align: right;\">\n",
              "      <th></th>\n",
              "      <th>userId</th>\n",
              "      <th>trackId</th>\n",
              "    </tr>\n",
              "  </thead>\n",
              "  <tbody>\n",
              "    <tr>\n",
              "      <th>0</th>\n",
              "      <td>0</td>\n",
              "      <td>57582</td>\n",
              "    </tr>\n",
              "    <tr>\n",
              "      <th>1</th>\n",
              "      <td>0</td>\n",
              "      <td>57802</td>\n",
              "    </tr>\n",
              "    <tr>\n",
              "      <th>2</th>\n",
              "      <td>0</td>\n",
              "      <td>57957</td>\n",
              "    </tr>\n",
              "    <tr>\n",
              "      <th>3</th>\n",
              "      <td>0</td>\n",
              "      <td>58174</td>\n",
              "    </tr>\n",
              "    <tr>\n",
              "      <th>4</th>\n",
              "      <td>0</td>\n",
              "      <td>59168</td>\n",
              "    </tr>\n",
              "  </tbody>\n",
              "</table>\n",
              "</div>"
            ],
            "text/plain": [
              "   userId  trackId\n",
              "0       0    57582\n",
              "1       0    57802\n",
              "2       0    57957\n",
              "3       0    58174\n",
              "4       0    59168"
            ]
          },
          "execution_count": 12,
          "metadata": {},
          "output_type": "execute_result"
        }
      ],
      "source": [
        "test_ratings.head()"
      ]
    },
    {
      "cell_type": "markdown",
      "id": "COtKDquLRrVV",
      "metadata": {
        "id": "COtKDquLRrVV"
      },
      "source": [
        "Соберем все релевантные треки для каждого пользователя в список."
      ]
    },
    {
      "cell_type": "code",
      "execution_count": null,
      "id": "UOCGl5rpPrDn",
      "metadata": {
        "id": "UOCGl5rpPrDn"
      },
      "outputs": [],
      "source": [
        "test_relevant = []\n",
        "test_users = []\n",
        "for user_id, user_data in test_ratings.groupby('userId'):\n",
        "    test_relevant += [user_data['trackId'].tolist()]\n",
        "    test_users.append(user_id)"
      ]
    },
    {
      "cell_type": "markdown",
      "id": "3UyBjs1SULH9",
      "metadata": {
        "id": "3UyBjs1SULH9"
      },
      "source": [
        "**Задание 2 (1 балл).** Реализуйте метод `get_test_recommendations` в классе `BaseModel`. Он принимает на вход параметр `k` и возвращает массив из `k` наиболее подходящих треков для каждого пользователя. Не забывайте удалять уже прослушанные треки из рекомендуемых."
      ]
    },
    {
      "cell_type": "code",
      "execution_count": null,
      "id": "sXnUGtM3XOp7",
      "metadata": {
        "id": "sXnUGtM3XOp7"
      },
      "outputs": [],
      "source": [
        "class BaseModel:\n",
        "    def __init__(self, ratings: pd.DataFrame):\n",
        "        self.ratings = ratings\n",
        "        self.n_users = len(np.unique(self.ratings['userId']))\n",
        "        self.n_items = len(np.unique(self.ratings['trackId']))\n",
        "\n",
        "        self.R = np.zeros((self.n_users, self.n_items))\n",
        "        self.R[self.ratings['userId'], self.ratings['trackId']] = 1.\n",
        "\n",
        "    def recommend(self, uid: int):\n",
        "        \"\"\"\n",
        "        param uid: int - user's id\n",
        "        return: [n_items] - vector of recommended items sorted by their scores in descending order\n",
        "        \"\"\"\n",
        "        raise NotImplementedError\n",
        "\n",
        "    def remove_train_items(self, preds: List[List[int]], k: int):\n",
        "        \"\"\"\n",
        "        param preds: [n_users, n_items] - recommended items for each user\n",
        "        param k: int\n",
        "        return: np.array [n_users, k] - recommended items without training examples\n",
        "        \"\"\"\n",
        "        new_preds = np.zeros((len(preds), k), dtype=int)\n",
        "        for user_id, user_data in self.ratings.groupby('userId'):\n",
        "            user_preds = preds[user_id]\n",
        "            new_preds[user_id] = user_preds[~np.in1d(user_preds, user_data['trackId'])][:k]\n",
        "\n",
        "        return new_preds\n",
        "\n",
        "    def get_test_recommendations(self, k: int) -> List[List[int]]:\n",
        "        test_preds = []\n",
        "        for uid in range(self.n_users):\n",
        "            test_preds.append(self.recommend(uid))\n",
        "        test_preds = self.remove_train_items(test_preds, k)\n",
        "\n",
        "        return [test_preds[i] for i in test_users]"
      ]
    },
    {
      "cell_type": "markdown",
      "id": "jMdKX1DZ-o4V",
      "metadata": {
        "id": "jMdKX1DZ-o4V"
      },
      "source": [
        "## Часть 1. Коллаборативная фильтрация (User2User)"
      ]
    },
    {
      "cell_type": "markdown",
      "id": "t_ZLzg_0XxVf",
      "metadata": {
        "id": "t_ZLzg_0XxVf"
      },
      "source": [
        "Идея: чтобы выбрать треки, которые понравятся пользователю, можно набрать несколько похожих на него пользователей (соседей) и посмотреть, какие треки они слушают. После этого остается агрегировать треки этих пользователей и выбрать самые популярные. Соответственно, задача состоит из двух частей: выбора функции похожести двух пользователей и способа агрегации.\n",
        "\n",
        "В качестве функции похожести мы будем использовать две метрики:\n",
        "\n",
        "1. Корреляция Пирсона $$s(u, v) = \\frac{\\sum_{i \\in I_u \\cap I_v} r_{ui}r_{vi}}{\\sqrt{\\sum_{i \\in I_u} r_{ui} ^2}\\sqrt{\\sum_{i \\in I_v} r_{vi}^2}} $$\n",
        "\n",
        "2. Мера Жаккара\n",
        "\n",
        "$$ s(u, v) = \\frac{|I_u \\cap I_v|}{|I_u \\cup I_v|} $$\n",
        "\n",
        "\n",
        "Корреляция Пирсона немного видоизменена, чтобы подходить под нашу задачу.\n",
        "\n",
        "\n",
        "Во всех формулах\n",
        "* $I_u$ - множество треков, прослушанных пользователем $u$.\n",
        "* $r_{ui}$ - прослушал ли пользователь $u$ трек $i$ (0 или 1).\n",
        "\n",
        "Множество соседей определим как $$N(u) = \\{ v \\in U \\setminus \\{u\\} \\mid s(u, v) > \\alpha\\},$$ где $\\alpha \\, - $ гиперпараметр.\n",
        "\n",
        "\n",
        "\n",
        "Для агрегации мы будем пользоваться следующей формулой.\n",
        "$$\n",
        "\\hat{r}_{ui} = \\frac{\\sum_{v \\in N(u)} s(u, v) r_{vi}}{\\sum_{v \\in N(u)} |s(u, v)|}\n",
        "$$"
      ]
    },
    {
      "cell_type": "markdown",
      "id": "YJyD1LVTKK9A",
      "metadata": {
        "id": "YJyD1LVTKK9A"
      },
      "source": [
        "**Задание 3.1 (1 балл).** Реализуйте функцию подсчета корреляции Пирсона.\n",
        "\n",
        "**Задание 3.2 (1 балл).** Реализуйте функцию подсчета меры Жаккара.\n",
        "\n",
        "Функции принимают матрицу оценок и вектор оценок пользователя $u$ и возвращают вектор со значениями похожести пользователя $u$ на всех пользователей. Старайтесь писать оптимизированный код, за неэффективную реализацию оценка может быть снижена."
      ]
    },
    {
      "cell_type": "code",
      "execution_count": null,
      "id": "rRvSRm_aWZMR",
      "metadata": {
        "id": "rRvSRm_aWZMR"
      },
      "outputs": [],
      "source": [
        "def pearson(ratings: np.array, user_vector: np.array) -> np.array:\n",
        "    return np.array([\n",
        "        np.dot(r, user_vector) / (np.sqrt(np.dot(r, r)) * np.sqrt(np.dot(user_vector, user_vector)))\n",
        "        for r in ratings\n",
        "    ])\n",
        "\n",
        "def jaccard(ratings: np.array, user_vector: np.array) -> np.array:\n",
        "    return np.array([\n",
        "        np.count_nonzero((r > 0) & (user_vector > 0)) / np.count_nonzero((r > 0) | (user_vector > 0))\n",
        "        for r in ratings\n",
        "    ])"
      ]
    },
    {
      "cell_type": "markdown",
      "id": "WMLtM7ffNWdx",
      "metadata": {
        "id": "WMLtM7ffNWdx"
      },
      "source": [
        "**Задание 4 (1 балл).** Реализуйте методы `similarity` и `recommend` класса `User2User`. `recommend` возвращает индексы треков, отсортированные в порядке убывания предсказанных оценок.\n"
      ]
    },
    {
      "cell_type": "code",
      "execution_count": null,
      "id": "5ZIz0G1RJbXl",
      "metadata": {
        "id": "5ZIz0G1RJbXl"
      },
      "outputs": [],
      "source": [
        "class User2User(BaseModel):\n",
        "    def __init__(self, ratings, similarity_func):\n",
        "        super().__init__(ratings)\n",
        "\n",
        "        self.similarity_func = similarity_func\n",
        "        self.alpha = 0.02\n",
        "\n",
        "    def similarity(self, user_vector: np.array):\n",
        "        \"\"\"\n",
        "        user_vector: [n_items]\n",
        "        \"\"\"\n",
        "        # your code here: (￣▽￣)/♫•*¨*•.¸¸♪\n",
        "        return self.similarity_func(self.R, user_vector)\n",
        "\n",
        "    def recommend(self, uid: int):\n",
        "        # your code here: (￣▽￣)/♫•*¨*•.¸¸♪\n",
        "        sim = self.similarity(self.R[uid])\n",
        "        n = np.where(sim > self.alpha)[0]\n",
        "        n = n[n != uid]\n",
        "        res = sim[n] @ self.R[n]\n",
        "        return np.argsort(-res)"
      ]
    },
    {
      "cell_type": "markdown",
      "id": "kqEwJiFOSs2r",
      "metadata": {
        "id": "kqEwJiFOSs2r"
      },
      "source": [
        "**Задание 5 (1 балл).** Постройте графики зависимости значений $MAP@k$ от разных $k$ для обоих функций похожести, сравните их между собой, а также с предсказаниями случайного алгоритма и сделайте выводы."
      ]
    },
    {
      "cell_type": "code",
      "execution_count": null,
      "id": "tyswL-dlNpy7",
      "metadata": {
        "id": "tyswL-dlNpy7"
      },
      "outputs": [],
      "source": [
        "cnt = 50\n",
        "jessica_pearson = User2User(train_ratings, pearson)\n",
        "results_pearson = jessica_pearson.get_test_recommendations(cnt)"
      ]
    },
    {
      "cell_type": "code",
      "execution_count": null,
      "id": "b27c75a0",
      "metadata": {
        "id": "b27c75a0"
      },
      "outputs": [],
      "source": [
        "jetpack_jaccard = User2User(train_ratings, jaccard)\n",
        "results_jaccard = jetpack_jaccard.get_test_recommendations(cnt)"
      ]
    },
    {
      "cell_type": "code",
      "execution_count": null,
      "id": "53fa90fc",
      "metadata": {
        "id": "53fa90fc"
      },
      "outputs": [],
      "source": [
        "results_random = np.array(list(np.random.choice(\n",
        "    ratings['trackId'].unique(), cnt) for _ in test_users))"
      ]
    },
    {
      "cell_type": "code",
      "execution_count": null,
      "id": "96fcbb40",
      "metadata": {
        "id": "96fcbb40",
        "outputId": "e43ef583-6eb6-4f0f-b764-2592f0354be1"
      },
      "outputs": [
        {
          "data": {
            "image/png": "[encoded data removed]",
            "text/plain": [
              "<Figure size 432x288 with 1 Axes>"
            ]
          },
          "metadata": {
            "needs_background": "light"
          },
          "output_type": "display_data"
        }
      ],
      "source": [
        "default_range = range(1, cnt + 1)\n",
        "plt.plot(default_range, list(mapk(test_relevant, results_pearson, k) for k in default_range), label='Pearson')\n",
        "plt.plot(default_range, list(mapk(test_relevant, results_jaccard, k) for k in default_range), label='Jaccard')\n",
        "plt.plot(default_range, list(mapk(test_relevant, results_random, k) for k in default_range), label='Random')\n",
        "plt.ylabel('Map@k')\n",
        "plt.xlabel('k_iterations')\n",
        "plt.legend()\n",
        "plt.title('Second user recomendations')\n",
        "plt.show()"
      ]
    },
    {
      "cell_type": "markdown",
      "id": "0Fy7v-b-WDQE",
      "metadata": {
        "id": "0Fy7v-b-WDQE"
      },
      "source": [
        "**Задание 6 (1.5 балла).** Как вы могли заметить, матрица оценок получается очень разреженной, но мы работаем с ней как с обычной, это не дело. Перепишите код так, чтобы все методы могли работать с разреженными матрицами и сравните скорость работы такого подхода с оригинальным."
      ]
    },
    {
      "cell_type": "code",
      "execution_count": null,
      "id": "4jQiwrTbW_DL",
      "metadata": {
        "id": "4jQiwrTbW_DL"
      },
      "outputs": [],
      "source": [
        "from scipy.sparse import csr_matrix, find\n",
        "\n",
        "def pearson_sparse(ratings: csr_matrix, user_vector: csr_matrix):\n",
        "    uv_reshaped = user_vector.reshape(-1, 1)\n",
        "    return np.array(list(\n",
        "        ((r @ uv_reshaped / (np.sqrt(\n",
        "            (r @ r.reshape(-1, 1)) *\n",
        "            (user_vector @ uv_reshaped)))).sum() for r in ratings)))\n",
        "\n",
        "def jaccard_sparse(ratings: csr_matrix, user_vector: csr_matrix):\n",
        "    return np.array(list(\n",
        "        len(np.intersect1d(find(r)[1], find(user_vector)[1])) /\n",
        "        len(find(r + user_vector > 0)[0])\n",
        "            for r in ratings))\n",
        "\n",
        "class User2UserSparse(User2User):\n",
        "    def __init__(self, ratings, similarity_func):\n",
        "        super().__init__(ratings, similarity_func)\n",
        "        self.R = csr_matrix(self.R)\n",
        "\n",
        "u2u = User2UserSparse(train_ratings, pearson_sparse)\n",
        "result_p_sp = u2u.get_test_recommendations(cnt)"
      ]
    },
    {
      "cell_type": "markdown",
      "id": "DmuMhWS4CEFe",
      "metadata": {
        "id": "DmuMhWS4CEFe"
      },
      "source": [
        "Мы можем посмотреть глазами, насколько хорошо модель рекомендует треки. Для этого сравним уже прослушанные треки с рекомендованными и релевантными для случайного пользователя. Хорошо ли у вас получилось?"
      ]
    },
    {
      "cell_type": "code",
      "execution_count": null,
      "id": "QAHDWgHfkCQh",
      "metadata": {
        "id": "QAHDWgHfkCQh"
      },
      "outputs": [],
      "source": [
        "user_id = np.random.randint(0, model.n_users)"
      ]
    },
    {
      "cell_type": "code",
      "execution_count": null,
      "id": "_d3tafMuko5O",
      "metadata": {
        "colab": {
          "base_uri": "https://localhost:8080/",
          "height": 531
        },
        "id": "_d3tafMuko5O",
        "outputId": "6c6c53ab-8329-4747-9015-9105a113d7ca"
      },
      "outputs": [
        {
          "name": "stdout",
          "output_type": "stream",
          "text": [
            "Already listened tracks:\n"
          ]
        },
        {
          "data": {
            "text/html": [
              "<div>\n",
              "<style scoped>\n",
              "    .dataframe tbody tr th:only-of-type {\n",
              "        vertical-align: middle;\n",
              "    }\n",
              "\n",
              "    .dataframe tbody tr th {\n",
              "        vertical-align: top;\n",
              "    }\n",
              "\n",
              "    .dataframe thead th {\n",
              "        text-align: right;\n",
              "    }\n",
              "</style>\n",
              "<table border=\"1\" class=\"dataframe\">\n",
              "  <thead>\n",
              "    <tr style=\"text-align: right;\">\n",
              "      <th></th>\n",
              "      <th>name</th>\n",
              "      <th>artists</th>\n",
              "    </tr>\n",
              "  </thead>\n",
              "  <tbody>\n",
              "    <tr>\n",
              "      <th>2527</th>\n",
              "      <td>Losing My Religion</td>\n",
              "      <td>['R.E.M.']</td>\n",
              "    </tr>\n",
              "    <tr>\n",
              "      <th>2799</th>\n",
              "      <td>In the End</td>\n",
              "      <td>['Linkin Park']</td>\n",
              "    </tr>\n",
              "    <tr>\n",
              "      <th>3533</th>\n",
              "      <td>Fairytale Gone Bad</td>\n",
              "      <td>['Sunrise Avenue']</td>\n",
              "    </tr>\n",
              "    <tr>\n",
              "      <th>3807</th>\n",
              "      <td>Black Black Heart 2.0</td>\n",
              "      <td>['David Usher']</td>\n",
              "    </tr>\n",
              "    <tr>\n",
              "      <th>3948</th>\n",
              "      <td>Twenty Years</td>\n",
              "      <td>['Placebo']</td>\n",
              "    </tr>\n",
              "    <tr>\n",
              "      <th>3952</th>\n",
              "      <td>Fuck You</td>\n",
              "      <td>['Lily Allen']</td>\n",
              "    </tr>\n",
              "    <tr>\n",
              "      <th>4358</th>\n",
              "      <td>I Kissed A Girl</td>\n",
              "      <td>['Katy Perry']</td>\n",
              "    </tr>\n",
              "    <tr>\n",
              "      <th>4451</th>\n",
              "      <td>Baby</td>\n",
              "      <td>['Justin Bieber', 'Ludacris']</td>\n",
              "    </tr>\n",
              "    <tr>\n",
              "      <th>5848</th>\n",
              "      <td>Осколок льда</td>\n",
              "      <td>['Ария']</td>\n",
              "    </tr>\n",
              "    <tr>\n",
              "      <th>6177</th>\n",
              "      <td>Nutshell</td>\n",
              "      <td>['Alice In Chains']</td>\n",
              "    </tr>\n",
              "    <tr>\n",
              "      <th>7775</th>\n",
              "      <td>ромашки</td>\n",
              "      <td>['Земфира']</td>\n",
              "    </tr>\n",
              "    <tr>\n",
              "      <th>8129</th>\n",
              "      <td>Supergirl</td>\n",
              "      <td>['Reamonn']</td>\n",
              "    </tr>\n",
              "    <tr>\n",
              "      <th>8250</th>\n",
              "      <td>Say It</td>\n",
              "      <td>['Blue October']</td>\n",
              "    </tr>\n",
              "    <tr>\n",
              "      <th>9374</th>\n",
              "      <td>Senden Daha Güzel</td>\n",
              "      <td>['Duman']</td>\n",
              "    </tr>\n",
              "    <tr>\n",
              "      <th>9975</th>\n",
              "      <td>Now You're Gone</td>\n",
              "      <td>['Basshunter']</td>\n",
              "    </tr>\n",
              "  </tbody>\n",
              "</table>\n",
              "</div>"
            ],
            "text/plain": [
              "                       name                        artists\n",
              "2527     Losing My Religion                     ['R.E.M.']\n",
              "2799             In the End                ['Linkin Park']\n",
              "3533     Fairytale Gone Bad             ['Sunrise Avenue']\n",
              "3807  Black Black Heart 2.0                ['David Usher']\n",
              "3948           Twenty Years                    ['Placebo']\n",
              "3952               Fuck You                 ['Lily Allen']\n",
              "4358        I Kissed A Girl                 ['Katy Perry']\n",
              "4451                   Baby  ['Justin Bieber', 'Ludacris']\n",
              "5848           Осколок льда                       ['Ария']\n",
              "6177               Nutshell            ['Alice In Chains']\n",
              "7775                ромашки                    ['Земфира']\n",
              "8129              Supergirl                    ['Reamonn']\n",
              "8250                 Say It               ['Blue October']\n",
              "9374      Senden Daha Güzel                      ['Duman']\n",
              "9975        Now You're Gone                 ['Basshunter']"
            ]
          },
          "execution_count": 89,
          "metadata": {},
          "output_type": "execute_result"
        }
      ],
      "source": [
        "listened_tracks = train_ratings[train_ratings.userId == user_id].trackId[:15]\n",
        "\n",
        "print('Already listened tracks:')\n",
        "\n",
        "tracks_info.loc[listened_tracks][['name', 'artists']]"
      ]
    },
    {
      "cell_type": "code",
      "execution_count": null,
      "id": "t0jACzw6ko5P",
      "metadata": {
        "colab": {
          "base_uri": "https://localhost:8080/",
          "height": 563,
          "referenced_widgets": [
            "352dc0a1aa2049da8389d238673e0d74",
            "a1fff232a45c47b4a472b376f4bb786b",
            "cdda2f364c4b4873ba46321cd0980ab2",
            "56340e3947544c43afda403ff222f5a3",
            "05d9c5e3f43f4b7f8b85ed1e3d5a74a3",
            "359731880a5947499c9a5e4be6e91c89",
            "7fd233ee0bf54983acb61485fe779111",
            "927ea86a465d45ae873fc8ae164a9f72",
            "e5fdb05a8acb41368703134ed69d7875",
            "ec6478706bb140c08b20f2ba05a17205",
            "940629cc1c16475cbd2858e55f2f881f"
          ]
        },
        "id": "t0jACzw6ko5P",
        "outputId": "c04b5613-5f4d-4e7a-a502-22aebc7c0637"
      },
      "outputs": [
        {
          "name": "stdout",
          "output_type": "stream",
          "text": [
            "Predicted tracks:\n"
          ]
        },
        {
          "data": {
            "text/html": [
              "<div>\n",
              "<style scoped>\n",
              "    .dataframe tbody tr th:only-of-type {\n",
              "        vertical-align: middle;\n",
              "    }\n",
              "\n",
              "    .dataframe tbody tr th {\n",
              "        vertical-align: top;\n",
              "    }\n",
              "\n",
              "    .dataframe thead th {\n",
              "        text-align: right;\n",
              "    }\n",
              "</style>\n",
              "<table border=\"1\" class=\"dataframe\">\n",
              "  <thead>\n",
              "    <tr style=\"text-align: right;\">\n",
              "      <th></th>\n",
              "      <th>name</th>\n",
              "      <th>artists</th>\n",
              "    </tr>\n",
              "  </thead>\n",
              "  <tbody>\n",
              "    <tr>\n",
              "      <th>67312</th>\n",
              "      <td>Послала</td>\n",
              "      <td>['VAVAN', 'Real Girl']</td>\n",
              "    </tr>\n",
              "    <tr>\n",
              "      <th>22447</th>\n",
              "      <td>Falls of Glory</td>\n",
              "      <td>['BrunuhVille']</td>\n",
              "    </tr>\n",
              "    <tr>\n",
              "      <th>22445</th>\n",
              "      <td>Richter: On the Nature of Daylight</td>\n",
              "      <td>['Max Richter Orchestra', 'Lorenz Dangel']</td>\n",
              "    </tr>\n",
              "    <tr>\n",
              "      <th>22444</th>\n",
              "      <td>The Way I Am</td>\n",
              "      <td>['Eminem']</td>\n",
              "    </tr>\n",
              "    <tr>\n",
              "      <th>22443</th>\n",
              "      <td>Richter: Infra 5</td>\n",
              "      <td>['Max Richter', 'Louisa Fuller', 'Natalia Bonn...</td>\n",
              "    </tr>\n",
              "    <tr>\n",
              "      <th>22442</th>\n",
              "      <td>Mosquito Song</td>\n",
              "      <td>['Queens of the Stone Age']</td>\n",
              "    </tr>\n",
              "    <tr>\n",
              "      <th>22441</th>\n",
              "      <td>Gonna Leave You</td>\n",
              "      <td>['Queens of the Stone Age']</td>\n",
              "    </tr>\n",
              "    <tr>\n",
              "      <th>22440</th>\n",
              "      <td>First It Giveth</td>\n",
              "      <td>['Queens of the Stone Age']</td>\n",
              "    </tr>\n",
              "    <tr>\n",
              "      <th>22439</th>\n",
              "      <td>Hurt (Quiet)</td>\n",
              "      <td>['Nine Inch Nails']</td>\n",
              "    </tr>\n",
              "    <tr>\n",
              "      <th>22438</th>\n",
              "      <td>Richter: Sunlight</td>\n",
              "      <td>['Louisa Fuller', 'Natalia Bonner', 'Rico Cost...</td>\n",
              "    </tr>\n",
              "    <tr>\n",
              "      <th>22437</th>\n",
              "      <td>Yellow Brick Road</td>\n",
              "      <td>['Eminem']</td>\n",
              "    </tr>\n",
              "    <tr>\n",
              "      <th>22436</th>\n",
              "      <td>Shut Up And Hold On</td>\n",
              "      <td>['Toby Keith']</td>\n",
              "    </tr>\n",
              "    <tr>\n",
              "      <th>22435</th>\n",
              "      <td>Cockeye's Song</td>\n",
              "      <td>['Ennio Morricone', 'Ennio Morricone &amp; His Orc...</td>\n",
              "    </tr>\n",
              "    <tr>\n",
              "      <th>22434</th>\n",
              "      <td>Le Mystère Féminin</td>\n",
              "      <td>['Kery James', 'Imany']</td>\n",
              "    </tr>\n",
              "    <tr>\n",
              "      <th>22433</th>\n",
              "      <td>One Last Night</td>\n",
              "      <td>['Vaults']</td>\n",
              "    </tr>\n",
              "  </tbody>\n",
              "</table>\n",
              "</div>"
            ],
            "text/plain": [
              "                                     name  \\\n",
              "67312                             Послала   \n",
              "22447                      Falls of Glory   \n",
              "22445  Richter: On the Nature of Daylight   \n",
              "22444                        The Way I Am   \n",
              "22443                    Richter: Infra 5   \n",
              "22442                       Mosquito Song   \n",
              "22441                     Gonna Leave You   \n",
              "22440                     First It Giveth   \n",
              "22439                        Hurt (Quiet)   \n",
              "22438                   Richter: Sunlight   \n",
              "22437                   Yellow Brick Road   \n",
              "22436                 Shut Up And Hold On   \n",
              "22435                      Cockeye's Song   \n",
              "22434                  Le Mystère Féminin   \n",
              "22433                      One Last Night   \n",
              "\n",
              "                                                 artists  \n",
              "67312                             ['VAVAN', 'Real Girl']  \n",
              "22447                                    ['BrunuhVille']  \n",
              "22445         ['Max Richter Orchestra', 'Lorenz Dangel']  \n",
              "22444                                         ['Eminem']  \n",
              "22443  ['Max Richter', 'Louisa Fuller', 'Natalia Bonn...  \n",
              "22442                        ['Queens of the Stone Age']  \n",
              "22441                        ['Queens of the Stone Age']  \n",
              "22440                        ['Queens of the Stone Age']  \n",
              "22439                                ['Nine Inch Nails']  \n",
              "22438  ['Louisa Fuller', 'Natalia Bonner', 'Rico Cost...  \n",
              "22437                                         ['Eminem']  \n",
              "22436                                     ['Toby Keith']  \n",
              "22435  ['Ennio Morricone', 'Ennio Morricone & His Orc...  \n",
              "22434                            ['Kery James', 'Imany']  \n",
              "22433                                         ['Vaults']  "
            ]
          },
          "execution_count": 90,
          "metadata": {},
          "output_type": "execute_result"
        }
      ],
      "source": [
        "preds = model.get_test_recommendations(15)\n",
        "\n",
        "print('Predicted tracks:')\n",
        "\n",
        "tracks_info.loc[preds[user_id]][['name', 'artists']]"
      ]
    },
    {
      "cell_type": "code",
      "execution_count": null,
      "id": "8_UZCIxrko5Q",
      "metadata": {
        "colab": {
          "base_uri": "https://localhost:8080/",
          "height": 531
        },
        "id": "8_UZCIxrko5Q",
        "outputId": "1442d3b3-a4a8-42a7-eef6-9ce6cef7aad5"
      },
      "outputs": [
        {
          "name": "stdout",
          "output_type": "stream",
          "text": [
            "Test-time tracks:\n"
          ]
        },
        {
          "data": {
            "text/html": [
              "<div>\n",
              "<style scoped>\n",
              "    .dataframe tbody tr th:only-of-type {\n",
              "        vertical-align: middle;\n",
              "    }\n",
              "\n",
              "    .dataframe tbody tr th {\n",
              "        vertical-align: top;\n",
              "    }\n",
              "\n",
              "    .dataframe thead th {\n",
              "        text-align: right;\n",
              "    }\n",
              "</style>\n",
              "<table border=\"1\" class=\"dataframe\">\n",
              "  <thead>\n",
              "    <tr style=\"text-align: right;\">\n",
              "      <th></th>\n",
              "      <th>name</th>\n",
              "      <th>artists</th>\n",
              "    </tr>\n",
              "  </thead>\n",
              "  <tbody>\n",
              "    <tr>\n",
              "      <th>66829</th>\n",
              "      <td>My Heart Goes (La Di Da)</td>\n",
              "      <td>['Becky Hill', 'Topic']</td>\n",
              "    </tr>\n",
              "    <tr>\n",
              "      <th>66845</th>\n",
              "      <td>Ты со мной</td>\n",
              "      <td>['Lina Lee', 'Ваня Дмитриенко']</td>\n",
              "    </tr>\n",
              "    <tr>\n",
              "      <th>66884</th>\n",
              "      <td>люби меня так</td>\n",
              "      <td>['By Индия']</td>\n",
              "    </tr>\n",
              "    <tr>\n",
              "      <th>66892</th>\n",
              "      <td>so low</td>\n",
              "      <td>['escape', 'Даня Милохин']</td>\n",
              "    </tr>\n",
              "    <tr>\n",
              "      <th>66971</th>\n",
              "      <td>Shivers</td>\n",
              "      <td>['Ed Sheeran']</td>\n",
              "    </tr>\n",
              "    <tr>\n",
              "      <th>66983</th>\n",
              "      <td>Оставь меня одну</td>\n",
              "      <td>['просто Лера']</td>\n",
              "    </tr>\n",
              "    <tr>\n",
              "      <th>66999</th>\n",
              "      <td>Нотная слеза</td>\n",
              "      <td>['Bakr']</td>\n",
              "    </tr>\n",
              "    <tr>\n",
              "      <th>67007</th>\n",
              "      <td>Зоопарк</td>\n",
              "      <td>['10AGE']</td>\n",
              "    </tr>\n",
              "    <tr>\n",
              "      <th>67023</th>\n",
              "      <td>Услышит весь район</td>\n",
              "      <td>['Dabro']</td>\n",
              "    </tr>\n",
              "    <tr>\n",
              "      <th>67074</th>\n",
              "      <td>Бросишь меня</td>\n",
              "      <td>['Канги']</td>\n",
              "    </tr>\n",
              "    <tr>\n",
              "      <th>67089</th>\n",
              "      <td>ХОТЕЛ ТЕБЕ СКАЗАТЬ...</td>\n",
              "      <td>['SLAVA MARLOW']</td>\n",
              "    </tr>\n",
              "    <tr>\n",
              "      <th>67160</th>\n",
              "      <td>Давай ломай</td>\n",
              "      <td>['Артский', 'Марик эс']</td>\n",
              "    </tr>\n",
              "    <tr>\n",
              "      <th>67166</th>\n",
              "      <td>Темнота</td>\n",
              "      <td>['Mav-d', 'Miyagi &amp; Andy Panda']</td>\n",
              "    </tr>\n",
              "    <tr>\n",
              "      <th>67176</th>\n",
              "      <td>Мозоль</td>\n",
              "      <td>['CONSTANTINE', 'Иван Дорн']</td>\n",
              "    </tr>\n",
              "    <tr>\n",
              "      <th>67206</th>\n",
              "      <td>Потеряли пацана</td>\n",
              "      <td>['Tanir &amp; Tyomcha']</td>\n",
              "    </tr>\n",
              "  </tbody>\n",
              "</table>\n",
              "</div>"
            ],
            "text/plain": [
              "                           name                           artists\n",
              "66829  My Heart Goes (La Di Da)           ['Becky Hill', 'Topic']\n",
              "66845                Ты со мной   ['Lina Lee', 'Ваня Дмитриенко']\n",
              "66884             люби меня так                      ['By Индия']\n",
              "66892                    so low        ['escape', 'Даня Милохин']\n",
              "66971                   Shivers                    ['Ed Sheeran']\n",
              "66983          Оставь меня одну                   ['просто Лера']\n",
              "66999              Нотная слеза                          ['Bakr']\n",
              "67007                   Зоопарк                         ['10AGE']\n",
              "67023        Услышит весь район                         ['Dabro']\n",
              "67074              Бросишь меня                         ['Канги']\n",
              "67089     ХОТЕЛ ТЕБЕ СКАЗАТЬ...                  ['SLAVA MARLOW']\n",
              "67160               Давай ломай           ['Артский', 'Марик эс']\n",
              "67166                   Темнота  ['Mav-d', 'Miyagi & Andy Panda']\n",
              "67176                    Мозоль      ['CONSTANTINE', 'Иван Дорн']\n",
              "67206           Потеряли пацана               ['Tanir & Tyomcha']"
            ]
          },
          "execution_count": 91,
          "metadata": {},
          "output_type": "execute_result"
        }
      ],
      "source": [
        "test_tracks = test_ratings[test_ratings.userId == user_id].trackId[:15]\n",
        "\n",
        "print('Test-time tracks:')\n",
        "\n",
        "tracks_info.loc[test_tracks][['name', 'artists']]"
      ]
    },
    {
      "cell_type": "markdown",
      "id": "3laWojtltEz1",
      "metadata": {
        "id": "3laWojtltEz1"
      },
      "source": [
        "### Часть 2. Модель со скрытыми переменными"
      ]
    },
    {
      "cell_type": "markdown",
      "id": "W63eIwPEYuYG",
      "metadata": {
        "id": "W63eIwPEYuYG"
      },
      "source": [
        "В этой части мы пощупаем метод рекомендаций со скрытыми переменными.\n",
        "Идея: будем предсказывать оценки по формуле\n",
        "$$\n",
        "\\hat{r}_{ui} = \\langle p_u, q_u \\rangle,\n",
        "$$\n",
        "$p_u \\in \\mathbb{R}^d$ и $q_i \\in \\mathbb{R}^d$ - латентные векторы пользователя $u$ и объекта $i$ соответственно.\n",
        "\n",
        "Оптимизировать мы будем MSE между истинной оценкой пользователя и предсказанной с регуляризацией\n",
        "$$\n",
        "L = \\sum_{(u, i) \\in R} (\\hat{r}_{ui} - r_{ui})^2 + \\lambda \\left(\\sum_{u \\in U} \\|p_u\\|^2 + \\sum_{i \\in I} \\|q_i\\|^2\\right)\n",
        "$$"
      ]
    },
    {
      "cell_type": "markdown",
      "id": "jrZjfGb0iLk6",
      "metadata": {
        "id": "jrZjfGb0iLk6"
      },
      "source": [
        "**Задание 7 (1.5 балла).** На лекции рассматривались два подхода к оптимизации параметров. Можно это делать обычным стохастческим градинтным спуском, а можно по очереди обновлять матрицы $P, Q$, и тогда получится метод Alternating Least Squares (ALS). Выведите формулы обновления параметров для обоих методов."
      ]
    },
    {
      "cell_type": "markdown",
      "id": "60bacd45",
      "metadata": {
        "id": "60bacd45"
      },
      "source": []
    },
    {
      "cell_type": "markdown",
      "id": "knT2htHnkTPT",
      "metadata": {
        "id": "knT2htHnkTPT"
      },
      "source": [
        "**LFM:**\n",
        "\n",
        "$\n",
        "\\nabla_{p_u} L = 2\\sum\\limits_i (p_u^Tq_i^2 - r_{ui}q_i) + 2\\lambda p_u$\n",
        "\n",
        "$\n",
        "\\nabla_{q_u} L = 2\\sum\\limits_u (q_i^Tp_u^2 - r_{ui}p_u) + 2\\lambda p_u$\n",
        "\n",
        "Стахостичеческий градиентный спуск\n",
        "\n",
        "$\n",
        "p_{u\\ new} = p_u - 2step(p_u^Tq_i^2 - r_{ui}q_i + \\lambda p_u)$\n",
        "\n",
        "$\n",
        "q_{i\\ new} = q_i - 2step(q_i^Tp_u^2 - r_{ui}p_u + \\lambda q_i)$\n",
        "\n",
        "**ALS:**\n",
        "\n",
        "$\n",
        "L = ||(R - P^TQ)||_F^2 + \\lambda(||P||_F^2 + ||Q||_F^2)\\\\\n",
        "d_PL = tr(2((P^TQ - R)Q^T + \\lambda P^T)dP)\\\\\n",
        "\\nabla_P L = 2(Q(P^TQ - R)^T + \\lambda P)\\\\\n",
        "d_Q L = tr(2((P^TQ - R)^TP^T + \\lambda Q^T)dQ)\\\\\n",
        "\\nabla_Q L = 2(P(P^TQ - R) + \\lambda Q)\\\\\n",
        "$\n",
        "\n",
        "\n",
        "$\n",
        "2(Q(P^TQ - R)^T + \\lambda P) = 0\\\\\n",
        "P = (QQ^T + \\lambda)^{-1}QR^T\\\\\n",
        "2(P(P^TQ - R) + \\lambda Q) = 0\\\\\n",
        "Q = (PP^T + \\lambda)^{-1}PR\\\\\n",
        "$"
      ]
    },
    {
      "cell_type": "markdown",
      "id": "T5PXIItDkiDc",
      "metadata": {
        "id": "T5PXIItDkiDc"
      },
      "source": [
        "**Задание 8 (2 балла).** Реализуйте методы оптимизации параметров для обоих алгоритмов."
      ]
    },
    {
      "cell_type": "code",
      "execution_count": null,
      "id": "1cf1fc26",
      "metadata": {
        "id": "1cf1fc26"
      },
      "outputs": [],
      "source": [
        "import tqdm"
      ]
    },
    {
      "cell_type": "code",
      "execution_count": null,
      "id": "vTui-yTptFIo",
      "metadata": {
        "id": "vTui-yTptFIo"
      },
      "outputs": [],
      "source": [
        "class HiddenVars(BaseModel):\n",
        "    def __init__(self, ratings, dim=128, mode='sgd'):\n",
        "        super().__init__(ratings)\n",
        "        self.dim = dim\n",
        "\n",
        "        assert mode in ['sgd', 'als']\n",
        "        self.mode = mode\n",
        "\n",
        "        self.P = np.random.normal(size=(self.n_users, dim))\n",
        "        self.Q = np.random.normal(size=(self.n_items, dim))\n",
        "\n",
        "        self.lr = 0.0003\n",
        "        self.lamb = 0.01\n",
        "\n",
        "    def fit(self, num_iters=5):\n",
        "        for epoch in tqdm(range(num_iters)):\n",
        "\n",
        "            if self.mode == 'sgd':\n",
        "                # your code here: (￣▽￣)/♫•*¨*•.¸¸♪\n",
        "\n",
        "                passu = np.random.randint(0, self.n_users)\n",
        "                i = np.random.randint(0, self.n_items)\n",
        "                u = np.random.randint(0, self.n_users)\n",
        "                p = self.P[u].copy()\n",
        "                q = self.Q[i].copy()\n",
        "                dot_product = np.dot(p, q)\n",
        "                self.P[u] = p - 2 * self.lr * (dot_product * q - self.R[u][i] * q + self.lamb * p)\n",
        "                self.Q[i] = q - 2 * self.lr * (dot_product * p - self.R[u][i] * p + self.lamb * q)\n",
        "\n",
        "            elif self.mode == 'als':\n",
        "                # your code here: (￣▽￣)/♫•*¨*•.¸¸♪\n",
        "\n",
        "                self.P = np.linalg.inv(self.Q @ self.Q.T + self.lamb * np.eye(self.dim)) @ self.Q @ self.R.T\n",
        "                self.Q = np.linalg.inv(self.P @ self.P.T + self.lamb * np.eye(self.dim)) @ self.P @ self.R\n",
        "\n",
        "\n",
        "    def recommend(self, uid):\n",
        "        pred_rating = self.P[uid] @ self.Q.T\n",
        "\n",
        "        return np.argsort(pred_rating)[::-1]"
      ]
    },
    {
      "cell_type": "markdown",
      "id": "N0P3-ZcYuY3t",
      "metadata": {
        "id": "N0P3-ZcYuY3t"
      },
      "source": [
        "**Задание 9 (1 балл).** Для обоих алгоритмов подберите оптимальные значения размерности скрытого пространства $d$ и размера предсказания $k$. Как изменяется качество предсказаний с числом итераций обучения? Постройте соответствующие графики, сравните со случайным подхом и User2User, сделайте выводы. Какой алгоритм вам кажется более подходящим для данной задачи и почему?\n",
        "\n",
        "P.S. Хотя бы один из методов обучения должен приводить к лучшим результатам в сравнении с User2User подходом.\n",
        "\n",
        "P.P.S. Методу LFM свойственно переобучаться, поэтому при подборе параметров полезно смотреть на значения ошибки и оптимизируемой метрики на тренировочном датасете. Вы также можете менять начальную инициализацию и прочие параметры, за исключением архитектуры, на ваш вкус."
      ]
    },
    {
      "cell_type": "code",
      "execution_count": null,
      "id": "daef9943",
      "metadata": {
        "id": "daef9943"
      },
      "outputs": [],
      "source": [
        "import tqdm"
      ]
    },
    {
      "cell_type": "code",
      "execution_count": null,
      "id": "82b2595e",
      "metadata": {
        "id": "82b2595e"
      },
      "outputs": [],
      "source": [
        "dim = [2^2, 2^4]\n",
        "iters = np.arange(1, 100, 1)"
      ]
    },
    {
      "cell_type": "code",
      "execution_count": null,
      "id": "0D62IgV2OjDF",
      "metadata": {
        "id": "0D62IgV2OjDF"
      },
      "outputs": [],
      "source": []
    },
    {
      "cell_type": "code",
      "execution_count": null,
      "id": "ffa8152e",
      "metadata": {
        "colab": {
          "referenced_widgets": [
            "39fc299b18204c4891f3931fd1cf2dac"
          ]
        },
        "id": "ffa8152e",
        "outputId": "61766a91-4e33-4ec4-a6ce-3cc3f546c37c"
      },
      "outputs": [
        {
          "data": {
            "application/vnd.jupyter.widget-view+json": {
              "model_id": "39fc299b18204c4891f3931fd1cf2dac",
              "version_major": 2,
              "version_minor": 0
            },
            "text/plain": [
              "  0%|          | 0/5 [00:00<?, ?it/s]"
            ]
          },
          "metadata": {},
          "output_type": "display_data"
        }
      ],
      "source": [
        "model.fit()\n",
        "model"
      ]
    },
    {
      "cell_type": "markdown",
      "id": "Gx4EMj0HwVlR",
      "metadata": {
        "id": "Gx4EMj0HwVlR"
      },
      "source": [
        "Если у вас получилось достаточно хорошее качество, то при оптимизации параметров марицы $Q$ похожим трекам стали соответствовать похожие векторы. Поэтому мы можем для любого трека найти наиболее близкие к нему в латентном пространстве и проверить степерь обученности модели вручную."
      ]
    },
    {
      "cell_type": "code",
      "execution_count": null,
      "id": "82c8bf58",
      "metadata": {
        "id": "82c8bf58"
      },
      "outputs": [],
      "source": []
    },
    {
      "cell_type": "code",
      "execution_count": null,
      "id": "VFYy92Ls-53S",
      "metadata": {
        "id": "VFYy92Ls-53S"
      },
      "outputs": [],
      "source": [
        "example_trackId = tracks_info[tracks_info.name == 'Выхода нет'].iloc[0].id\n",
        "\n",
        "preds = model.Q @ model.Q[example_trackId]\n",
        "preds = preds / np.sqrt((model.Q**2).sum(axis=1) + 1e-8)\n",
        "\n",
        "track_idxs = preds.argsort()[::-1][:20]"
      ]
    },
    {
      "cell_type": "code",
      "execution_count": null,
      "id": "DzewG5rw5SQo",
      "metadata": {
        "colab": {
          "base_uri": "https://localhost:8080/",
          "height": 669
        },
        "id": "DzewG5rw5SQo",
        "outputId": "b49d9730-dab4-451a-943f-b26f2e4f4a23"
      },
      "outputs": [
        {
          "data": {
            "text/html": [
              "<div>\n",
              "<style scoped>\n",
              "    .dataframe tbody tr th:only-of-type {\n",
              "        vertical-align: middle;\n",
              "    }\n",
              "\n",
              "    .dataframe tbody tr th {\n",
              "        vertical-align: top;\n",
              "    }\n",
              "\n",
              "    .dataframe thead th {\n",
              "        text-align: right;\n",
              "    }\n",
              "</style>\n",
              "<table border=\"1\" class=\"dataframe\">\n",
              "  <thead>\n",
              "    <tr style=\"text-align: right;\">\n",
              "      <th></th>\n",
              "      <th>name</th>\n",
              "      <th>artists</th>\n",
              "      <th>similarity</th>\n",
              "    </tr>\n",
              "  </thead>\n",
              "  <tbody>\n",
              "    <tr>\n",
              "      <th>5512</th>\n",
              "      <td>Выхода нет</td>\n",
              "      <td>['Сплин']</td>\n",
              "      <td>1.000000</td>\n",
              "    </tr>\n",
              "    <tr>\n",
              "      <th>10292</th>\n",
              "      <td>Лунные девицы</td>\n",
              "      <td>['Мумий Тролль']</td>\n",
              "      <td>0.356525</td>\n",
              "    </tr>\n",
              "    <tr>\n",
              "      <th>43425</th>\n",
              "      <td>Гром</td>\n",
              "      <td>['OLIGARKH']</td>\n",
              "      <td>0.351503</td>\n",
              "    </tr>\n",
              "    <tr>\n",
              "      <th>40087</th>\n",
              "      <td>How Could This Be Wrong</td>\n",
              "      <td>['The Glitch Mob', 'Tula']</td>\n",
              "      <td>0.343585</td>\n",
              "    </tr>\n",
              "    <tr>\n",
              "      <th>44373</th>\n",
              "      <td>Do Your Worst</td>\n",
              "      <td>['Rival Sons']</td>\n",
              "      <td>0.334582</td>\n",
              "    </tr>\n",
              "    <tr>\n",
              "      <th>23020</th>\n",
              "      <td>Bound And Gagged</td>\n",
              "      <td>['Teenager']</td>\n",
              "      <td>0.326401</td>\n",
              "    </tr>\n",
              "    <tr>\n",
              "      <th>32793</th>\n",
              "      <td>На заре</td>\n",
              "      <td>['Бигуди', 'Евгений Гришковец']</td>\n",
              "      <td>0.324649</td>\n",
              "    </tr>\n",
              "    <tr>\n",
              "      <th>33113</th>\n",
              "      <td>Black Tears</td>\n",
              "      <td>['Imelda May', 'Jeff Beck']</td>\n",
              "      <td>0.323962</td>\n",
              "    </tr>\n",
              "    <tr>\n",
              "      <th>3425</th>\n",
              "      <td>Rat In Mi Kitchen</td>\n",
              "      <td>['UB40']</td>\n",
              "      <td>0.321585</td>\n",
              "    </tr>\n",
              "    <tr>\n",
              "      <th>45735</th>\n",
              "      <td>Твои руки</td>\n",
              "      <td>['гречка']</td>\n",
              "      <td>0.317621</td>\n",
              "    </tr>\n",
              "    <tr>\n",
              "      <th>30495</th>\n",
              "      <td>Судьба деревни</td>\n",
              "      <td>['Дмитрий Гревцев']</td>\n",
              "      <td>0.313729</td>\n",
              "    </tr>\n",
              "    <tr>\n",
              "      <th>52898</th>\n",
              "      <td>Можно, я к тебе приду</td>\n",
              "      <td>['Misty']</td>\n",
              "      <td>0.306547</td>\n",
              "    </tr>\n",
              "    <tr>\n",
              "      <th>4614</th>\n",
              "      <td>Pitiful</td>\n",
              "      <td>['Sick Puppies']</td>\n",
              "      <td>0.305856</td>\n",
              "    </tr>\n",
              "    <tr>\n",
              "      <th>10854</th>\n",
              "      <td>Милашка</td>\n",
              "      <td>['Эльдар Далгатов']</td>\n",
              "      <td>0.305812</td>\n",
              "    </tr>\n",
              "    <tr>\n",
              "      <th>25929</th>\n",
              "      <td>Ди-джеи</td>\n",
              "      <td>['Моя Мишель']</td>\n",
              "      <td>0.305531</td>\n",
              "    </tr>\n",
              "    <tr>\n",
              "      <th>8693</th>\n",
              "      <td>Abbey Road Blues</td>\n",
              "      <td>['Era', 'Томазо Альбинони']</td>\n",
              "      <td>0.304600</td>\n",
              "    </tr>\n",
              "    <tr>\n",
              "      <th>51175</th>\n",
              "      <td>Alaska Country</td>\n",
              "      <td>['Shocking Blue']</td>\n",
              "      <td>0.303351</td>\n",
              "    </tr>\n",
              "    <tr>\n",
              "      <th>17902</th>\n",
              "      <td>Same Girl</td>\n",
              "      <td>['Jennifer Lopez']</td>\n",
              "      <td>0.301753</td>\n",
              "    </tr>\n",
              "    <tr>\n",
              "      <th>9259</th>\n",
              "      <td>Easy Chair</td>\n",
              "      <td>['Yoav']</td>\n",
              "      <td>0.301292</td>\n",
              "    </tr>\n",
              "    <tr>\n",
              "      <th>50608</th>\n",
              "      <td>YEYO</td>\n",
              "      <td>['HARU']</td>\n",
              "      <td>0.298211</td>\n",
              "    </tr>\n",
              "  </tbody>\n",
              "</table>\n",
              "</div>"
            ],
            "text/plain": [
              "                          name                          artists  similarity\n",
              "5512                Выхода нет                        ['Сплин']    1.000000\n",
              "10292            Лунные девицы                 ['Мумий Тролль']    0.356525\n",
              "43425                     Гром                     ['OLIGARKH']    0.351503\n",
              "40087  How Could This Be Wrong       ['The Glitch Mob', 'Tula']    0.343585\n",
              "44373            Do Your Worst                   ['Rival Sons']    0.334582\n",
              "23020         Bound And Gagged                     ['Teenager']    0.326401\n",
              "32793                  На заре  ['Бигуди', 'Евгений Гришковец']    0.324649\n",
              "33113              Black Tears      ['Imelda May', 'Jeff Beck']    0.323962\n",
              "3425         Rat In Mi Kitchen                         ['UB40']    0.321585\n",
              "45735                Твои руки                       ['гречка']    0.317621\n",
              "30495           Судьба деревни              ['Дмитрий Гревцев']    0.313729\n",
              "52898    Можно, я к тебе приду                        ['Misty']    0.306547\n",
              "4614                   Pitiful                 ['Sick Puppies']    0.305856\n",
              "10854                  Милашка              ['Эльдар Далгатов']    0.305812\n",
              "25929                  Ди-джеи                   ['Моя Мишель']    0.305531\n",
              "8693          Abbey Road Blues      ['Era', 'Томазо Альбинони']    0.304600\n",
              "51175           Alaska Country                ['Shocking Blue']    0.303351\n",
              "17902                Same Girl               ['Jennifer Lopez']    0.301753\n",
              "9259                Easy Chair                         ['Yoav']    0.301292\n",
              "50608                     YEYO                         ['HARU']    0.298211"
            ]
          },
          "execution_count": 70,
          "metadata": {},
          "output_type": "execute_result"
        }
      ],
      "source": [
        "similar_tracks = tracks_info.loc[track_idxs][['name', 'artists']]\n",
        "similar_tracks['similarity'] = preds[track_idxs] / np.linalg.norm(model.Q[example_trackId])\n",
        "similar_tracks"
      ]
    },
    {
      "cell_type": "code",
      "execution_count": null,
      "id": "b04b4d44",
      "metadata": {
        "id": "b04b4d44"
      },
      "outputs": [],
      "source": []
    }
  ],
  "metadata": {
    "colab": {
      "provenance": []
    },
    "kernelspec": {
      "display_name": "Python 3",
      "language": "python",
      "name": "python3"
    },
    "language_info": {
      "codemirror_mode": {
        "name": "ipython",
        "version": 3
      },
      "file_extension": ".py",
      "mimetype": "text/x-python",
      "name": "python",
      "nbconvert_exporter": "python",
      "pygments_lexer": "ipython3",
      "version": "3.8.8"
    },
    "widgets": {
      "application/vnd.jupyter.widget-state+json": {
        "09367b7a291f4c81a93f79ac3bf09e9b": {
          "model_module": "@jupyter-widgets/controls",
          "model_module_version": "1.5.0",
          "model_name": "HTMLModel",
          "state": {
            "_dom_classes": [],
            "_model_module": "@jupyter-widgets/controls",
            "_model_module_version": "1.5.0",
            "_model_name": "HTMLModel",
            "_view_count": null,
            "_view_module": "@jupyter-widgets/controls",
            "_view_module_version": "1.5.0",
            "_view_name": "HTMLView",
            "description": "",
            "description_tooltip": null,
            "layout": "IPY_MODEL_57bc2e2902994e799d4378888bdb342a",
            "placeholder": "​",
            "style": "IPY_MODEL_4631243cc4dd4d1a8e3ffe3a8da29cf7",
            "value": "100%"
          }
        },
        "0b2d687ab70343a999f3a37dfe030a9c": {
          "model_module": "@jupyter-widgets/base",
          "model_module_version": "1.2.0",
          "model_name": "LayoutModel",
          "state": {
            "_model_module": "@jupyter-widgets/base",
            "_model_module_version": "1.2.0",
            "_model_name": "LayoutModel",
            "_view_count": null,
            "_view_module": "@jupyter-widgets/base",
            "_view_module_version": "1.2.0",
            "_view_name": "LayoutView",
            "align_content": null,
            "align_items": null,
            "align_self": null,
            "border": null,
            "bottom": null,
            "display": null,
            "flex": null,
            "flex_flow": null,
            "grid_area": null,
            "grid_auto_columns": null,
            "grid_auto_flow": null,
            "grid_auto_rows": null,
            "grid_column": null,
            "grid_gap": null,
            "grid_row": null,
            "grid_template_areas": null,
            "grid_template_columns": null,
            "grid_template_rows": null,
            "height": null,
            "justify_content": null,
            "justify_items": null,
            "left": null,
            "margin": null,
            "max_height": null,
            "max_width": null,
            "min_height": null,
            "min_width": null,
            "object_fit": null,
            "object_position": null,
            "order": null,
            "overflow": null,
            "overflow_x": null,
            "overflow_y": null,
            "padding": null,
            "right": null,
            "top": null,
            "visibility": null,
            "width": null
          }
        },
        "1b31eda686b54f7ca8c66aef18c987f3": {
          "model_module": "@jupyter-widgets/controls",
          "model_module_version": "1.5.0",
          "model_name": "HBoxModel",
          "state": {
            "_dom_classes": [],
            "_model_module": "@jupyter-widgets/controls",
            "_model_module_version": "1.5.0",
            "_model_name": "HBoxModel",
            "_view_count": null,
            "_view_module": "@jupyter-widgets/controls",
            "_view_module_version": "1.5.0",
            "_view_name": "HBoxView",
            "box_style": "",
            "children": [
              "IPY_MODEL_c8a26ff7a9504ca7b9982a1fdc958364",
              "IPY_MODEL_55a177c209e6414d8daae0aae25ab569",
              "IPY_MODEL_5696660af0a04fbbb0743796bdd5f9b3"
            ],
            "layout": "IPY_MODEL_35c5904b82544e9cac71cf7b0b67cc1e"
          }
        },
        "2571c66c254d4a6c9ae5a20812e41641": {
          "model_module": "@jupyter-widgets/controls",
          "model_module_version": "1.5.0",
          "model_name": "DescriptionStyleModel",
          "state": {
            "_model_module": "@jupyter-widgets/controls",
            "_model_module_version": "1.5.0",
            "_model_name": "DescriptionStyleModel",
            "_view_count": null,
            "_view_module": "@jupyter-widgets/base",
            "_view_module_version": "1.2.0",
            "_view_name": "StyleView",
            "description_width": ""
          }
        },
        "2943eba3c235416b809e23186d5625ef": {
          "model_module": "@jupyter-widgets/base",
          "model_module_version": "1.2.0",
          "model_name": "LayoutModel",
          "state": {
            "_model_module": "@jupyter-widgets/base",
            "_model_module_version": "1.2.0",
            "_model_name": "LayoutModel",
            "_view_count": null,
            "_view_module": "@jupyter-widgets/base",
            "_view_module_version": "1.2.0",
            "_view_name": "LayoutView",
            "align_content": null,
            "align_items": null,
            "align_self": null,
            "border": null,
            "bottom": null,
            "display": null,
            "flex": null,
            "flex_flow": null,
            "grid_area": null,
            "grid_auto_columns": null,
            "grid_auto_flow": null,
            "grid_auto_rows": null,
            "grid_column": null,
            "grid_gap": null,
            "grid_row": null,
            "grid_template_areas": null,
            "grid_template_columns": null,
            "grid_template_rows": null,
            "height": null,
            "justify_content": null,
            "justify_items": null,
            "left": null,
            "margin": null,
            "max_height": null,
            "max_width": null,
            "min_height": null,
            "min_width": null,
            "object_fit": null,
            "object_position": null,
            "order": null,
            "overflow": null,
            "overflow_x": null,
            "overflow_y": null,
            "padding": null,
            "right": null,
            "top": null,
            "visibility": null,
            "width": null
          }
        },
        "2ded17a125a44376abbe87ef29f2aa17": {
          "model_module": "@jupyter-widgets/controls",
          "model_module_version": "1.5.0",
          "model_name": "ProgressStyleModel",
          "state": {
            "_model_module": "@jupyter-widgets/controls",
            "_model_module_version": "1.5.0",
            "_model_name": "ProgressStyleModel",
            "_view_count": null,
            "_view_module": "@jupyter-widgets/base",
            "_view_module_version": "1.2.0",
            "_view_name": "StyleView",
            "bar_color": null,
            "description_width": ""
          }
        },
        "3339a154ce00450b8d07b45eda2e887c": {
          "model_module": "@jupyter-widgets/controls",
          "model_module_version": "1.5.0",
          "model_name": "FloatProgressModel",
          "state": {
            "_dom_classes": [],
            "_model_module": "@jupyter-widgets/controls",
            "_model_module_version": "1.5.0",
            "_model_name": "FloatProgressModel",
            "_view_count": null,
            "_view_module": "@jupyter-widgets/controls",
            "_view_module_version": "1.5.0",
            "_view_name": "ProgressView",
            "bar_style": "success",
            "description": "",
            "description_tooltip": null,
            "layout": "IPY_MODEL_a0cfdce0ec8544c49332cc831f67e777",
            "max": 241,
            "min": 0,
            "orientation": "horizontal",
            "style": "IPY_MODEL_c5b91a082e7d40879f66b6685fdfcfe0",
            "value": 241
          }
        },
        "35c5904b82544e9cac71cf7b0b67cc1e": {
          "model_module": "@jupyter-widgets/base",
          "model_module_version": "1.2.0",
          "model_name": "LayoutModel",
          "state": {
            "_model_module": "@jupyter-widgets/base",
            "_model_module_version": "1.2.0",
            "_model_name": "LayoutModel",
            "_view_count": null,
            "_view_module": "@jupyter-widgets/base",
            "_view_module_version": "1.2.0",
            "_view_name": "LayoutView",
            "align_content": null,
            "align_items": null,
            "align_self": null,
            "border": null,
            "bottom": null,
            "display": null,
            "flex": null,
            "flex_flow": null,
            "grid_area": null,
            "grid_auto_columns": null,
            "grid_auto_flow": null,
            "grid_auto_rows": null,
            "grid_column": null,
            "grid_gap": null,
            "grid_row": null,
            "grid_template_areas": null,
            "grid_template_columns": null,
            "grid_template_rows": null,
            "height": null,
            "justify_content": null,
            "justify_items": null,
            "left": null,
            "margin": null,
            "max_height": null,
            "max_width": null,
            "min_height": null,
            "min_width": null,
            "object_fit": null,
            "object_position": null,
            "order": null,
            "overflow": null,
            "overflow_x": null,
            "overflow_y": null,
            "padding": null,
            "right": null,
            "top": null,
            "visibility": null,
            "width": null
          }
        },
        "41b564f7d67b4422abcd5ac9925eb1f2": {
          "model_module": "@jupyter-widgets/controls",
          "model_module_version": "1.5.0",
          "model_name": "HTMLModel",
          "state": {
            "_dom_classes": [],
            "_model_module": "@jupyter-widgets/controls",
            "_model_module_version": "1.5.0",
            "_model_name": "HTMLModel",
            "_view_count": null,
            "_view_module": "@jupyter-widgets/controls",
            "_view_module_version": "1.5.0",
            "_view_name": "HTMLView",
            "description": "",
            "description_tooltip": null,
            "layout": "IPY_MODEL_f0fbd1b9ea074c1b9969417c02b32348",
            "placeholder": "​",
            "style": "IPY_MODEL_7935cc6e74c14372a82276f0a28e4559",
            "value": " 241/241 [00:01&lt;00:00, 158.21it/s]"
          }
        },
        "4631243cc4dd4d1a8e3ffe3a8da29cf7": {
          "model_module": "@jupyter-widgets/controls",
          "model_module_version": "1.5.0",
          "model_name": "DescriptionStyleModel",
          "state": {
            "_model_module": "@jupyter-widgets/controls",
            "_model_module_version": "1.5.0",
            "_model_name": "DescriptionStyleModel",
            "_view_count": null,
            "_view_module": "@jupyter-widgets/base",
            "_view_module_version": "1.2.0",
            "_view_name": "StyleView",
            "description_width": ""
          }
        },
        "55a177c209e6414d8daae0aae25ab569": {
          "model_module": "@jupyter-widgets/controls",
          "model_module_version": "1.5.0",
          "model_name": "FloatProgressModel",
          "state": {
            "_dom_classes": [],
            "_model_module": "@jupyter-widgets/controls",
            "_model_module_version": "1.5.0",
            "_model_name": "FloatProgressModel",
            "_view_count": null,
            "_view_module": "@jupyter-widgets/controls",
            "_view_module_version": "1.5.0",
            "_view_name": "ProgressView",
            "bar_style": "success",
            "description": "",
            "description_tooltip": null,
            "layout": "IPY_MODEL_2943eba3c235416b809e23186d5625ef",
            "max": 241,
            "min": 0,
            "orientation": "horizontal",
            "style": "IPY_MODEL_2ded17a125a44376abbe87ef29f2aa17",
            "value": 241
          }
        },
        "5696660af0a04fbbb0743796bdd5f9b3": {
          "model_module": "@jupyter-widgets/controls",
          "model_module_version": "1.5.0",
          "model_name": "HTMLModel",
          "state": {
            "_dom_classes": [],
            "_model_module": "@jupyter-widgets/controls",
            "_model_module_version": "1.5.0",
            "_model_name": "HTMLModel",
            "_view_count": null,
            "_view_module": "@jupyter-widgets/controls",
            "_view_module_version": "1.5.0",
            "_view_name": "HTMLView",
            "description": "",
            "description_tooltip": null,
            "layout": "IPY_MODEL_0b2d687ab70343a999f3a37dfe030a9c",
            "placeholder": "​",
            "style": "IPY_MODEL_2571c66c254d4a6c9ae5a20812e41641",
            "value": " 241/241 [00:00&lt;00:00, 515.87it/s]"
          }
        },
        "57bc2e2902994e799d4378888bdb342a": {
          "model_module": "@jupyter-widgets/base",
          "model_module_version": "1.2.0",
          "model_name": "LayoutModel",
          "state": {
            "_model_module": "@jupyter-widgets/base",
            "_model_module_version": "1.2.0",
            "_model_name": "LayoutModel",
            "_view_count": null,
            "_view_module": "@jupyter-widgets/base",
            "_view_module_version": "1.2.0",
            "_view_name": "LayoutView",
            "align_content": null,
            "align_items": null,
            "align_self": null,
            "border": null,
            "bottom": null,
            "display": null,
            "flex": null,
            "flex_flow": null,
            "grid_area": null,
            "grid_auto_columns": null,
            "grid_auto_flow": null,
            "grid_auto_rows": null,
            "grid_column": null,
            "grid_gap": null,
            "grid_row": null,
            "grid_template_areas": null,
            "grid_template_columns": null,
            "grid_template_rows": null,
            "height": null,
            "justify_content": null,
            "justify_items": null,
            "left": null,
            "margin": null,
            "max_height": null,
            "max_width": null,
            "min_height": null,
            "min_width": null,
            "object_fit": null,
            "object_position": null,
            "order": null,
            "overflow": null,
            "overflow_x": null,
            "overflow_y": null,
            "padding": null,
            "right": null,
            "top": null,
            "visibility": null,
            "width": null
          }
        },
        "7935cc6e74c14372a82276f0a28e4559": {
          "model_module": "@jupyter-widgets/controls",
          "model_module_version": "1.5.0",
          "model_name": "DescriptionStyleModel",
          "state": {
            "_model_module": "@jupyter-widgets/controls",
            "_model_module_version": "1.5.0",
            "_model_name": "DescriptionStyleModel",
            "_view_count": null,
            "_view_module": "@jupyter-widgets/base",
            "_view_module_version": "1.2.0",
            "_view_name": "StyleView",
            "description_width": ""
          }
        },
        "a0cfdce0ec8544c49332cc831f67e777": {
          "model_module": "@jupyter-widgets/base",
          "model_module_version": "1.2.0",
          "model_name": "LayoutModel",
          "state": {
            "_model_module": "@jupyter-widgets/base",
            "_model_module_version": "1.2.0",
            "_model_name": "LayoutModel",
            "_view_count": null,
            "_view_module": "@jupyter-widgets/base",
            "_view_module_version": "1.2.0",
            "_view_name": "LayoutView",
            "align_content": null,
            "align_items": null,
            "align_self": null,
            "border": null,
            "bottom": null,
            "display": null,
            "flex": null,
            "flex_flow": null,
            "grid_area": null,
            "grid_auto_columns": null,
            "grid_auto_flow": null,
            "grid_auto_rows": null,
            "grid_column": null,
            "grid_gap": null,
            "grid_row": null,
            "grid_template_areas": null,
            "grid_template_columns": null,
            "grid_template_rows": null,
            "height": null,
            "justify_content": null,
            "justify_items": null,
            "left": null,
            "margin": null,
            "max_height": null,
            "max_width": null,
            "min_height": null,
            "min_width": null,
            "object_fit": null,
            "object_position": null,
            "order": null,
            "overflow": null,
            "overflow_x": null,
            "overflow_y": null,
            "padding": null,
            "right": null,
            "top": null,
            "visibility": null,
            "width": null
          }
        },
        "b1c919ee0c85468a89413d98d9926b50": {
          "model_module": "@jupyter-widgets/controls",
          "model_module_version": "1.5.0",
          "model_name": "HBoxModel",
          "state": {
            "_dom_classes": [],
            "_model_module": "@jupyter-widgets/controls",
            "_model_module_version": "1.5.0",
            "_model_name": "HBoxModel",
            "_view_count": null,
            "_view_module": "@jupyter-widgets/controls",
            "_view_module_version": "1.5.0",
            "_view_name": "HBoxView",
            "box_style": "",
            "children": [
              "IPY_MODEL_09367b7a291f4c81a93f79ac3bf09e9b",
              "IPY_MODEL_3339a154ce00450b8d07b45eda2e887c",
              "IPY_MODEL_41b564f7d67b4422abcd5ac9925eb1f2"
            ],
            "layout": "IPY_MODEL_bfd4906b7ffc4ade9650aa96d140860a"
          }
        },
        "bc2f4104184749dbb7dcd2b5c6235238": {
          "model_module": "@jupyter-widgets/controls",
          "model_module_version": "1.5.0",
          "model_name": "DescriptionStyleModel",
          "state": {
            "_model_module": "@jupyter-widgets/controls",
            "_model_module_version": "1.5.0",
            "_model_name": "DescriptionStyleModel",
            "_view_count": null,
            "_view_module": "@jupyter-widgets/base",
            "_view_module_version": "1.2.0",
            "_view_name": "StyleView",
            "description_width": ""
          }
        },
        "bfd4906b7ffc4ade9650aa96d140860a": {
          "model_module": "@jupyter-widgets/base",
          "model_module_version": "1.2.0",
          "model_name": "LayoutModel",
          "state": {
            "_model_module": "@jupyter-widgets/base",
            "_model_module_version": "1.2.0",
            "_model_name": "LayoutModel",
            "_view_count": null,
            "_view_module": "@jupyter-widgets/base",
            "_view_module_version": "1.2.0",
            "_view_name": "LayoutView",
            "align_content": null,
            "align_items": null,
            "align_self": null,
            "border": null,
            "bottom": null,
            "display": null,
            "flex": null,
            "flex_flow": null,
            "grid_area": null,
            "grid_auto_columns": null,
            "grid_auto_flow": null,
            "grid_auto_rows": null,
            "grid_column": null,
            "grid_gap": null,
            "grid_row": null,
            "grid_template_areas": null,
            "grid_template_columns": null,
            "grid_template_rows": null,
            "height": null,
            "justify_content": null,
            "justify_items": null,
            "left": null,
            "margin": null,
            "max_height": null,
            "max_width": null,
            "min_height": null,
            "min_width": null,
            "object_fit": null,
            "object_position": null,
            "order": null,
            "overflow": null,
            "overflow_x": null,
            "overflow_y": null,
            "padding": null,
            "right": null,
            "top": null,
            "visibility": null,
            "width": null
          }
        },
        "c5b91a082e7d40879f66b6685fdfcfe0": {
          "model_module": "@jupyter-widgets/controls",
          "model_module_version": "1.5.0",
          "model_name": "ProgressStyleModel",
          "state": {
            "_model_module": "@jupyter-widgets/controls",
            "_model_module_version": "1.5.0",
            "_model_name": "ProgressStyleModel",
            "_view_count": null,
            "_view_module": "@jupyter-widgets/base",
            "_view_module_version": "1.2.0",
            "_view_name": "StyleView",
            "bar_color": null,
            "description_width": ""
          }
        },
        "c8a26ff7a9504ca7b9982a1fdc958364": {
          "model_module": "@jupyter-widgets/controls",
          "model_module_version": "1.5.0",
          "model_name": "HTMLModel",
          "state": {
            "_dom_classes": [],
            "_model_module": "@jupyter-widgets/controls",
            "_model_module_version": "1.5.0",
            "_model_name": "HTMLModel",
            "_view_count": null,
            "_view_module": "@jupyter-widgets/controls",
            "_view_module_version": "1.5.0",
            "_view_name": "HTMLView",
            "description": "",
            "description_tooltip": null,
            "layout": "IPY_MODEL_eac1572340b3491b987713ddf4fef228",
            "placeholder": "​",
            "style": "IPY_MODEL_bc2f4104184749dbb7dcd2b5c6235238",
            "value": "100%"
          }
        },
        "eac1572340b3491b987713ddf4fef228": {
          "model_module": "@jupyter-widgets/base",
          "model_module_version": "1.2.0",
          "model_name": "LayoutModel",
          "state": {
            "_model_module": "@jupyter-widgets/base",
            "_model_module_version": "1.2.0",
            "_model_name": "LayoutModel",
            "_view_count": null,
            "_view_module": "@jupyter-widgets/base",
            "_view_module_version": "1.2.0",
            "_view_name": "LayoutView",
            "align_content": null,
            "align_items": null,
            "align_self": null,
            "border": null,
            "bottom": null,
            "display": null,
            "flex": null,
            "flex_flow": null,
            "grid_area": null,
            "grid_auto_columns": null,
            "grid_auto_flow": null,
            "grid_auto_rows": null,
            "grid_column": null,
            "grid_gap": null,
            "grid_row": null,
            "grid_template_areas": null,
            "grid_template_columns": null,
            "grid_template_rows": null,
            "height": null,
            "justify_content": null,
            "justify_items": null,
            "left": null,
            "margin": null,
            "max_height": null,
            "max_width": null,
            "min_height": null,
            "min_width": null,
            "object_fit": null,
            "object_position": null,
            "order": null,
            "overflow": null,
            "overflow_x": null,
            "overflow_y": null,
            "padding": null,
            "right": null,
            "top": null,
            "visibility": null,
            "width": null
          }
        },
        "f0fbd1b9ea074c1b9969417c02b32348": {
          "model_module": "@jupyter-widgets/base",
          "model_module_version": "1.2.0",
          "model_name": "LayoutModel",
          "state": {
            "_model_module": "@jupyter-widgets/base",
            "_model_module_version": "1.2.0",
            "_model_name": "LayoutModel",
            "_view_count": null,
            "_view_module": "@jupyter-widgets/base",
            "_view_module_version": "1.2.0",
            "_view_name": "LayoutView",
            "align_content": null,
            "align_items": null,
            "align_self": null,
            "border": null,
            "bottom": null,
            "display": null,
            "flex": null,
            "flex_flow": null,
            "grid_area": null,
            "grid_auto_columns": null,
            "grid_auto_flow": null,
            "grid_auto_rows": null,
            "grid_column": null,
            "grid_gap": null,
            "grid_row": null,
            "grid_template_areas": null,
            "grid_template_columns": null,
            "grid_template_rows": null,
            "height": null,
            "justify_content": null,
            "justify_items": null,
            "left": null,
            "margin": null,
            "max_height": null,
            "max_width": null,
            "min_height": null,
            "min_width": null,
            "object_fit": null,
            "object_position": null,
            "order": null,
            "overflow": null,
            "overflow_x": null,
            "overflow_y": null,
            "padding": null,
            "right": null,
            "top": null,
            "visibility": null,
            "width": null
          }
        }
      }
    }
  },
  "nbformat": 4,
  "nbformat_minor": 5
}