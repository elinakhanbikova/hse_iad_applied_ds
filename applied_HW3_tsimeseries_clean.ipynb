{
 "cells": [
  {
   "cell_type": "markdown",
   "metadata": {
    "id": "xzBzCtgnxdD4"
   },
   "source": [
    "<center><img src=\"https://github.com/hse-ds/iad-applied-ds/blob/master/2021/hw/hw1/img/logo_hse.png?raw=1\" width=\"1000\"></center>\n",
    "\n",
    "<h1><center>Прикладные задачи анализа данных</center></h1>\n",
    "<h2><center>Домашнее задание 3: прогнозирование временных рядов</center></h2>"
   ]
  },
  {
   "cell_type": "markdown",
   "metadata": {
    "id": "3TmEZjnkxdD6"
   },
   "source": [
    "**Мягкий дедлайн:** 23:59MSK 19.05.2024\n",
    "\n",
    "**Жесткий дедлайн:** 23:59MSK 26.05.2024"
   ]
  },
  {
   "cell_type": "code",
   "execution_count": null,
   "metadata": {
    "ExecuteTime": {
     "end_time": "2023-03-22T14:28:45.251753Z",
     "start_time": "2023-03-22T14:28:42.092107Z"
    },
    "colab": {
     "base_uri": "https://localhost:8080/"
    },
    "id": "9hS4aP2UxdD7",
    "outputId": "4010c748-4e87-4360-e46a-f503e0db5738"
   },
   "outputs": [],
   "source": [
    "!pip install -r requirements.txt"
   ]
  },
  {
   "cell_type": "code",
   "execution_count": null,
   "metadata": {
    "ExecuteTime": {
     "end_time": "2023-03-22T14:28:46.204362Z",
     "start_time": "2023-03-22T14:28:42.098684Z"
    },
    "id": "Ed4WPdEMxdD7",
    "pycharm": {
     "name": "#%%\n"
    }
   },
   "outputs": [],
   "source": [
    "import warnings\n",
    "import gdown\n",
    "import pandas as pd\n",
    "import numpy as np\n",
    "from copy import deepcopy\n",
    "\n",
    "from etna.analysis import cross_corr_plot\n",
    "from etna.analysis import distribution_plot\n",
    "from etna.analysis import plot_anomalies\n",
    "from etna.analysis import plot_anomalies_interactive\n",
    "from etna.analysis import plot_backtest\n",
    "from etna.analysis import plot_correlation_matrix\n",
    "from etna.analysis import plot_forecast\n",
    "from etna.analysis import acf_plot\n",
    "from etna.analysis import stl_plot\n",
    "from etna.analysis.outliers import get_anomalies_density\n",
    "from etna.analysis.outliers import get_anomalies_hist\n",
    "from etna.analysis.outliers import get_anomalies_median\n",
    "from etna.analysis.outliers import get_anomalies_prediction_interval\n",
    "from etna.datasets import TSDataset\n",
    "from etna.ensembles import DirectEnsemble, StackingEnsemble, VotingEnsemble\n",
    "from etna.metrics import MAE, MAPE, MSE, SMAPE\n",
    "from etna.models import CatBoostPerSegmentModel\n",
    "from etna.models import CatBoostMultiSegmentModel\n",
    "from etna.models import LinearPerSegmentModel\n",
    "from etna.models import MovingAverageModel\n",
    "from etna.models import NaiveModel\n",
    "from etna.models import AutoARIMAModel\n",
    "from etna.models import ProphetModel\n",
    "from etna.models import SeasonalMovingAverageModel\n",
    "from etna.pipeline import AutoRegressivePipeline, Pipeline, assemble_pipelines\n",
    "from etna.transforms import DateFlagsTransform\n",
    "from etna.transforms import FilterFeaturesTransform\n",
    "from etna.transforms import HolidayTransform\n",
    "from etna.transforms import LagTransform\n",
    "from etna.transforms import LinearTrendTransform\n",
    "from etna.transforms import LogTransform\n",
    "from etna.transforms import MeanTransform\n",
    "from etna.transforms import MedianOutliersTransform\n",
    "from etna.transforms import SegmentEncoderTransform\n",
    "from etna.transforms import TimeSeriesImputerTransform\n",
    "from etna.datasets import load_dataset\n",
    "\n",
    "warnings.filterwarnings(\"ignore\")"
   ]
  },
  {
   "cell_type": "markdown",
   "metadata": {
    "id": "gm2LNOZyxdD8"
   },
   "source": [
    "В данной задаче мы будем решать одну из актуальных практических задач, с которыми, в том числе, сталкиваются разработчики ETNA - прогнозирование объема необходимой наличности в банкоматах. Пожалуй, ни для кого не секрет, что отсутствие необходимой суммы в банкомате не делает клиента банка счастливее. В то же время, избыток заправленной в банкомат наличности приводит к упущенной выгоде - ведь, в конечном счете, эти деньги могли быть размещены в качестве краткосрочного депозита на межбанковском рынке. Для кредитной организации с обширной сетью банкоматов даже незначительное улучшение качества предсказания способно внести значительный вклад в прибыльность этой ветки бизнеса.\n",
    "\n",
    "В качестве инструмента воспользуемся библиотекой ETNA, документацию можно прочитать [тут](https://docs.etna.ai/stable/), и [чат](https://t.me/etna_support) комьюнити.\n",
    "\n",
    "Мы будем использовать дневные данные реальных банкоматов для чего возьмем мультисегментный датасет."
   ]
  },
  {
   "cell_type": "code",
   "execution_count": null,
   "metadata": {
    "colab": {
     "base_uri": "https://localhost:8080/"
    },
    "id": "T9UHpFOYxdD8",
    "outputId": "6a3ba28f-53c0-4174-b44d-5d522eecddf9"
   },
   "outputs": [],
   "source": [
    "url = 'https://gist.githubusercontent.com/Polzovat123/4d6d5e544e93429c2d3db29196e9c918/raw/24b27e60f587128d71678e267f51cd48472c6a84/atms_daily_cash.csv'\n",
    "output = 'atms_daily_cash.csv'\n",
    "gdown.download(url=url, output=output, quiet=False, fuzzy=True)\n",
    "\n",
    "df = pd.read_csv('atms_daily_cash.csv', index_col=False)"
   ]
  },
  {
   "cell_type": "markdown",
   "metadata": {
    "id": "Lx_UNhc4xdD8"
   },
   "source": [
    "Полученные данные были просуммированы по банкоматам и дням эксплуатации, после чего залиты в gist, откуда мы и берем их.\n",
    "\n",
    "Взглянем на то, что представляют из себя данные после этих действий:"
   ]
  },
  {
   "cell_type": "code",
   "execution_count": null,
   "metadata": {
    "colab": {
     "base_uri": "https://localhost:8080/",
     "height": 204
    },
    "id": "ht2RszewxdD9",
    "outputId": "b757ce3e-da62-43ca-bc84-0c8aaf2e715f"
   },
   "outputs": [],
   "source": [
    "df.head()"
   ]
  },
  {
   "cell_type": "markdown",
   "metadata": {
    "id": "4PGJpIm9xdD9"
   },
   "source": [
    "### Задание 1. EDA (1.75 балл)\n",
    "\n",
    "Проведите разведывательный анализ данных с помощью `ETNA`- постройте графики, на которых можно судить о наличии тренда, сезонности и прочих зависимостей. Проанализируйте корреляции. Какие выводы вы можете сделать?\n",
    "\n",
    "Ссылку на туториал по EDA можно найти [тут](https://docs.etna.ai/stable/tutorials/103-EDA.html#EDA)."
   ]
  },
  {
   "cell_type": "code",
   "execution_count": null,
   "metadata": {
    "id": "PybS66Sv-iC_"
   },
   "outputs": [],
   "source": [
    "import matplotlib.pyplot as plt\n",
    "import seaborn as sns\n",
    "from datetime import datetime\n",
    "sns.set()"
   ]
  },
  {
   "cell_type": "code",
   "execution_count": null,
   "metadata": {
    "colab": {
     "base_uri": "https://localhost:8080/"
    },
    "id": "RcJhIwEi-lcu",
    "outputId": "66872afa-7a2f-4e5f-d7ec-1b816c147070"
   },
   "outputs": [],
   "source": [
    "df.info()"
   ]
  },
  {
   "cell_type": "code",
   "execution_count": null,
   "metadata": {
    "colab": {
     "base_uri": "https://localhost:8080/"
    },
    "id": "Tv0jEiqj-ozk",
    "outputId": "21915f12-8eef-4319-ea63-9a0dd47e7a5c"
   },
   "outputs": [],
   "source": [
    "df.isna().sum()"
   ]
  },
  {
   "cell_type": "code",
   "execution_count": null,
   "metadata": {
    "colab": {
     "base_uri": "https://localhost:8080/",
     "height": 475
    },
    "id": "mvOaU4zJ-z1L",
    "outputId": "c69efe1f-8262-44d2-9f1c-63a8d6624fb4"
   },
   "outputs": [],
   "source": [
    "sns.histplot(data=df['operation_value'], palette = 'deep', color='red')"
   ]
  },
  {
   "cell_type": "markdown",
   "metadata": {
    "id": "hkxqmdNwAML5"
   },
   "source": [
    "Распределение имеет правостороннюю ассиметрию и островершинность. Даже на глаз видно большое количество выбросов."
   ]
  },
  {
   "cell_type": "code",
   "execution_count": null,
   "metadata": {
    "id": "3SndKQJ-xdD9"
   },
   "outputs": [],
   "source": [
    "from etna.datasets import TSDataset"
   ]
  },
  {
   "cell_type": "code",
   "execution_count": null,
   "metadata": {
    "colab": {
     "base_uri": "https://localhost:8080/",
     "height": 204
    },
    "id": "OWic4hm3xdD9",
    "outputId": "56a9b095-c8b2-4f81-8d47-1d7eb8214509"
   },
   "outputs": [],
   "source": [
    "df_etna = df.copy(deep=True)\n",
    "df_etna['timestamp'] =  pd.to_datetime(df_etna['datetime'])\n",
    "df_etna[\"segment\"] = df_etna[\"atm_id\"]\n",
    "df_etna[\"target\"] = df_etna[\"operation_value\"]\n",
    "df_etna.drop(columns=[\"operation_value\", \"atm_id\",\"datetime\"], inplace=True)\n",
    "\n",
    "df_etna.head()"
   ]
  },
  {
   "cell_type": "code",
   "execution_count": null,
   "metadata": {
    "colab": {
     "base_uri": "https://localhost:8080/",
     "height": 501
    },
    "id": "SJ8U-Wjr9pEU",
    "outputId": "30400185-dbd8-48bd-fd46-c7d601da5be7"
   },
   "outputs": [],
   "source": [
    "ts = TSDataset(df_etna, freq=\"D\")\n",
    "ts"
   ]
  },
  {
   "cell_type": "code",
   "execution_count": null,
   "metadata": {
    "colab": {
     "base_uri": "https://localhost:8080/"
    },
    "id": "o1WqclKs9vVm",
    "outputId": "9a5ca85e-7e28-435e-809a-168274554880"
   },
   "outputs": [],
   "source": [
    "ts.info()"
   ]
  },
  {
   "cell_type": "code",
   "execution_count": null,
   "metadata": {
    "colab": {
     "base_uri": "https://localhost:8080/",
     "height": 700
    },
    "id": "YEOzMaPi9xMx",
    "outputId": "e0c034db-a000-4870-f6ce-9c0a206c9838"
   },
   "outputs": [],
   "source": [
    "ts.describe()"
   ]
  },
  {
   "cell_type": "code",
   "execution_count": null,
   "metadata": {
    "colab": {
     "base_uri": "https://localhost:8080/",
     "height": 1000
    },
    "id": "CbufxSRt9xoK",
    "outputId": "acf3f4fd-df22-4e11-ac6d-c7b5c0229692"
   },
   "outputs": [],
   "source": [
    "ts.plot(n_segments = 20)"
   ]
  },
  {
   "cell_type": "markdown",
   "metadata": {
    "id": "fciUgbQMDaEG"
   },
   "source": [
    "Почти во всех представленных рядах отслеживаются аномалии (как положительные, так и отрицательные). В большинстве из рядов визуально тренд отсутствует (предположительно имеется позитивный тренд у рядов 103, 104 и 106). Можно предположить, что для всех рядов наблюдается сезонность. Для более подробного анализа посмотрим на статистики рядов:"
   ]
  },
  {
   "cell_type": "code",
   "execution_count": null,
   "metadata": {
    "colab": {
     "base_uri": "https://localhost:8080/",
     "height": 842
    },
    "id": "mcuT3M61G5aB",
    "outputId": "228c133d-5c19-4d68-919b-7847cf0486d9"
   },
   "outputs": [],
   "source": [
    "plot_correlation_matrix(ts, method=\"spearman\", vmin=0.3, vmax=1)"
   ]
  },
  {
   "cell_type": "markdown",
   "metadata": {
    "id": "q6nGqoKdHHEo"
   },
   "source": [
    "Ряды друг на друга практически не влияют (большинство корреляций между ними меньше 0,3).  Наибольшая корреляция наблдюается между 74 и 85 банкоматом (равна 0.6)."
   ]
  },
  {
   "cell_type": "code",
   "execution_count": null,
   "metadata": {
    "colab": {
     "base_uri": "https://localhost:8080/",
     "height": 1000
    },
    "id": "TKF7sXiSEH-2",
    "outputId": "070b88de-ff78-4fe7-c2ab-cea98d2e45fa"
   },
   "outputs": [],
   "source": [
    "acf_plot(ts, lags=21, n_segments = 20)"
   ]
  },
  {
   "cell_type": "markdown",
   "metadata": {
    "id": "hMUIMj6yl1jQ"
   },
   "source": [
    "Выводы по графикам автрегрессии:\n",
    "1) У 74 и 105 банкоматов наблдюается недельная сезонность\n",
    "2) У 87, 93, 90, 85, 103 и 104 банкоматов авторегрессия остается высокая на протяжении большого количества лагов, что может говорить  том, что этим временным рядам может свойственна модель авторегрессии. Для подтверждения нужно посмотреть график частной автокрреляции.\n"
   ]
  },
  {
   "cell_type": "code",
   "execution_count": null,
   "metadata": {
    "colab": {
     "base_uri": "https://localhost:8080/",
     "height": 501
    },
    "id": "EhBNQcTdjXak",
    "outputId": "dceb8a36-e087-421a-c831-0f052ab36702"
   },
   "outputs": [],
   "source": [
    "df_etna2 = df_etna[df_etna['timestamp'] >= '2017-08-17']\n",
    "ts2 = TSDataset(df_etna2.dropna(), freq=\"D\")\n",
    "ts2"
   ]
  },
  {
   "cell_type": "code",
   "execution_count": null,
   "metadata": {
    "colab": {
     "base_uri": "https://localhost:8080/",
     "height": 1000
    },
    "id": "DZGiAREmjJla",
    "outputId": "34267064-167d-4b32-e84b-745ee5afc8a9"
   },
   "outputs": [],
   "source": [
    "acf_plot(ts2, partial=True,  lags=10)"
   ]
  },
  {
   "cell_type": "code",
   "execution_count": null,
   "metadata": {
    "id": "f-7DPIQqh6d6"
   },
   "outputs": [],
   "source": [
    "from statsmodels.graphics.tsaplots import plot_acf\n",
    "from statsmodels.graphics.tsaplots import plot_pacf"
   ]
  },
  {
   "cell_type": "code",
   "execution_count": null,
   "metadata": {
    "colab": {
     "base_uri": "https://localhost:8080/",
     "height": 556
    },
    "id": "T4EahPbinWDL",
    "outputId": "864e76bb-5b00-47bf-e3f0-1158044d646c"
   },
   "outputs": [],
   "source": [
    "fig, ax = plt.subplots(figsize=(20, 10))\n",
    "plot_acf(df_etna['target'].diff().dropna(), lags=100, ax=ax)\n",
    "plt.show()"
   ]
  },
  {
   "cell_type": "code",
   "execution_count": null,
   "metadata": {
    "id": "qt-ETGl_teRU"
   },
   "outputs": [],
   "source": [
    "from etna.analysis import plot_trend\n",
    "from etna.transforms import LinearTrendTransform"
   ]
  },
  {
   "cell_type": "code",
   "execution_count": null,
   "metadata": {
    "colab": {
     "base_uri": "https://localhost:8080/",
     "height": 1000
    },
    "id": "ImznJuTktH30",
    "outputId": "34dcbd4d-63e5-44ac-9149-6ac8eb7be262"
   },
   "outputs": [],
   "source": [
    "plot_trend(ts, trend_transform=LinearTrendTransform(in_column=\"target\"))"
   ]
  },
  {
   "cell_type": "markdown",
   "metadata": {
    "id": "ln_cpekytylc"
   },
   "source": [
    "У рядов 101, 103, 104, 106,74,85,90,93,94 имеется положительный тренд, а у остальных рядов тренд практически отсутствует."
   ]
  },
  {
   "cell_type": "markdown",
   "metadata": {
    "id": "-4BsWTySuv5e"
   },
   "source": [
    "**Сезонность**\n",
    "Выше по графикам мы сделали предположение о недельной сезонности, проверим нашу гипотезу с помощью декомпозиции STL"
   ]
  },
  {
   "cell_type": "code",
   "execution_count": null,
   "metadata": {
    "colab": {
     "base_uri": "https://localhost:8080/",
     "height": 1000
    },
    "id": "YlfloU7duN89",
    "outputId": "6949e97b-cb3a-440f-a2c8-599aa5ba29dc"
   },
   "outputs": [],
   "source": [
    "stl_plot(ts=ts, period=52)"
   ]
  },
  {
   "cell_type": "markdown",
   "metadata": {
    "id": "IKuGpkJiw9-8"
   },
   "source": [
    "Ни у одноного банкомата недельной сезонности нет :(\n",
    "  При проверке других периодов сезонности, она такжне обнаружена не была"
   ]
  },
  {
   "cell_type": "markdown",
   "metadata": {
    "id": "bm6MToKIxdD9"
   },
   "source": [
    "### Задание 2. Работа с пропущенными значениями и выбросами (1 балл)\n",
    "\n",
    "Проанализируйте, есть ли в данных пропущенные значения, и подберите оптимальный метод их заполнения средствами ETNA. Какие методы вы выберете и почему? Совет: возможно, лучше сохранить заполненные данные в отдельный объект, поскольку некоторые модели заполняют пропуски встроенными методами, и подача на вход \"сырых\" данных (на языке временных рядов это данные с нерегулярными интервалами) может принести лучший результат.\n",
    "\n",
    "Импорты всех необходимых компонент произведите самостоятельно."
   ]
  },
  {
   "cell_type": "code",
   "execution_count": null,
   "metadata": {
    "colab": {
     "base_uri": "https://localhost:8080/"
    },
    "id": "Ah147r080qun",
    "outputId": "c9c88490-bbfe-4670-e439-a669c652e009"
   },
   "outputs": [],
   "source": [
    "ts.info()"
   ]
  },
  {
   "cell_type": "markdown",
   "metadata": {
    "id": "dCG5UL1F0oQT"
   },
   "source": [
    "Проверьте ряды на наличие выбросов, и очистите их соответствующим образом. Обоснуйте выбор."
   ]
  },
  {
   "cell_type": "markdown",
   "metadata": {
    "id": "Ho6AG8NpyEoo"
   },
   "source": [
    "Так как сезонности обнаружено не было, заполним пропуски c помощью  moving average  "
   ]
  },
  {
   "cell_type": "code",
   "execution_count": null,
   "metadata": {
    "id": "wZ7ecqRYtYaV"
   },
   "outputs": [],
   "source": [
    "from etna.transforms import (TimeSeriesImputerTransform,\n",
    "                             DensityOutliersTransform,\n",
    "                             MedianOutliersTransform)\n",
    "from etna.analysis.outliers import (get_anomalies_density,\n",
    "                                    get_anomalies_median,\n",
    "                                    get_anomalies_prediction_interval)\n",
    "from etna.analysis import (plot_anomalies, plot_anomalies_interactive,\n",
    "                           plot_backtest, plot_forecast)\n",
    "from etna.models import ProphetModel"
   ]
  },
  {
   "cell_type": "code",
   "execution_count": null,
   "metadata": {
    "id": "kad7zphQtbJZ"
   },
   "outputs": [],
   "source": [
    "nans_imputer = TimeSeriesImputerTransform(\n",
    "    in_column=\"target\", strategy=\"running_mean\"\n",
    ")\n",
    "\n",
    "# df_etna_wo_na = nans_imputer.fit_transform(df_etna)\n",
    "# ts_wo_na = TSDataset(df_etna_wo_na, freq=\"D\")\n",
    "\n",
    "\n",
    "ts_wo_na = deepcopy(ts)\n",
    "ts_wo_na.fit_transform([nans_imputer])"
   ]
  },
  {
   "cell_type": "code",
   "execution_count": null,
   "metadata": {
    "colab": {
     "base_uri": "https://localhost:8080/"
    },
    "id": "jwfE-tBLxdD-",
    "outputId": "5b140293-089e-400c-a0df-14007fd075b1"
   },
   "outputs": [],
   "source": [
    "ts_wo_na.info()"
   ]
  },
  {
   "cell_type": "markdown",
   "metadata": {
    "id": "Kpo4Ku6w3mTe"
   },
   "source": [
    "Отклонение от медианных значений, рассчитанных по окну"
   ]
  },
  {
   "cell_type": "code",
   "execution_count": null,
   "metadata": {
    "colab": {
     "base_uri": "https://localhost:8080/",
     "height": 1000
    },
    "id": "JPAxByly28RH",
    "outputId": "941c42a3-86ca-40bb-d56e-371394cce990"
   },
   "outputs": [],
   "source": [
    "anomaly_dict = get_anomalies_median(ts, window_size=50)  # задаем размер окна\n",
    "plot_anomalies(ts, anomaly_dict)"
   ]
  },
  {
   "cell_type": "markdown",
   "metadata": {
    "id": "WmrABOP23wTC"
   },
   "source": [
    "Метод на основе плотности точек"
   ]
  },
  {
   "cell_type": "code",
   "execution_count": null,
   "metadata": {
    "colab": {
     "base_uri": "https://localhost:8080/",
     "height": 1000
    },
    "id": "Gbm96oMn3w3R",
    "outputId": "a7cc34df-50a3-4808-f392-1f69664d38e5"
   },
   "outputs": [],
   "source": [
    "anomaly_dict = get_anomalies_density(ts, window_size=18, distance_coef=3, n_neighbors=4)\n",
    "plot_anomalies(ts, anomaly_dict)"
   ]
  },
  {
   "cell_type": "markdown",
   "metadata": {
    "id": "e_emzVg94Q6p"
   },
   "source": [
    "Метод на основе предсказаний модели"
   ]
  },
  {
   "cell_type": "code",
   "execution_count": null,
   "metadata": {
    "colab": {
     "base_uri": "https://localhost:8080/",
     "height": 1000
    },
    "id": "ofAQEYZt4Rhb",
    "outputId": "3248ea9c-04df-42e6-9053-ece2c130b9a9"
   },
   "outputs": [],
   "source": [
    "anomaly_dict = get_anomalies_prediction_interval(ts, model=ProphetModel, interval_width=0.95)\n",
    "\n",
    "plot_anomalies(ts, anomaly_dict)"
   ]
  },
  {
   "cell_type": "markdown",
   "metadata": {
    "id": "9SWPlNKO9uk5"
   },
   "source": [
    "Для идентификации выбросов будем использовать метод на основе плотности точек, так как визуально он лучше определяет выбросы. Для заполнения пропусков будем использовать также скользящее среднее, так как оно более локально определяет нужное значение и не подвержено влиянию значений, сильно отдаленных от рассматриваемого пропуска."
   ]
  },
  {
   "cell_type": "code",
   "execution_count": null,
   "metadata": {
    "colab": {
     "base_uri": "https://localhost:8080/",
     "height": 1000
    },
    "id": "Snx5BsS697il",
    "outputId": "ff0b649e-37c9-498e-e5fc-02a11aa2fb85"
   },
   "outputs": [],
   "source": [
    "ts_filled_na = deepcopy(ts)\n",
    "\n",
    "ts_filled_na.fit_transform([\n",
    "    DensityOutliersTransform(in_column=\"target\",  window_size=18, distance_coef=3, n_neighbors=4),\n",
    "    TimeSeriesImputerTransform(strategy='running_mean'),\n",
    "])\n",
    "\n",
    "ts_filled_na.plot(n_segments=20)"
   ]
  },
  {
   "cell_type": "markdown",
   "metadata": {
    "id": "0isA8AyF_HoL"
   },
   "source": [
    "теперь круто 😎"
   ]
  },
  {
   "cell_type": "markdown",
   "metadata": {
    "id": "DnKxoTMAxdD-"
   },
   "source": [
    "### Задание 3. Построение Prophet (1.25 балла)\n",
    "\n",
    "Постройте прогнозы с помощью Prophet и `etna.Pipeline`, под капотом `etna.Pipeline` обучит `ProphetModel` для каждого сегмента в отдельности. После этого оцените качество по SMAPE на кросс-валидации. В качестве горизонта предсказания возьмите 5 дней - этого же горизонта будем придерживаться и в дальнейшем.\n",
    "\n",
    "Отрисуйте получившийся прогноз."
   ]
  },
  {
   "cell_type": "code",
   "execution_count": null,
   "metadata": {
    "id": "Is1afTlJxdD-"
   },
   "outputs": [],
   "source": [
    "from etna.pipeline import Pipeline\n",
    "from etna.models import ProphetModel\n",
    "from etna.metrics import SMAPE, MAE\n",
    "from etna.analysis import plot_backtest"
   ]
  },
  {
   "cell_type": "code",
   "execution_count": null,
   "metadata": {
    "id": "N6-69XhvxdD_"
   },
   "outputs": [],
   "source": [
    "HORIZON = 5"
   ]
  },
  {
   "cell_type": "code",
   "execution_count": null,
   "metadata": {
    "colab": {
     "base_uri": "https://localhost:8080/",
     "height": 1000
    },
    "id": "_Y8p_7kExdD_",
    "outputId": "c546a705-96f5-402d-c6b7-b4076462271d"
   },
   "outputs": [],
   "source": [
    "model = ProphetModel()\n",
    "transforms = []\n",
    "pipeline = Pipeline(model=model, transforms=transforms, horizon=HORIZON)\n",
    "\n",
    "metrics_df, forecast_df, fold_info_df = pipeline.backtest(\n",
    "    ts=ts_filled_na, metrics=[SMAPE(), MAE()], n_jobs=5\n",
    ")\n",
    "\n",
    "metrics_df.groupby(['segment']).mean()"
   ]
  },
  {
   "cell_type": "code",
   "execution_count": null,
   "metadata": {
    "colab": {
     "base_uri": "https://localhost:8080/",
     "height": 1000
    },
    "id": "JVBfWNGzBJlL",
    "outputId": "ab7f3501-d1e8-4cc2-da98-86876baccfc9"
   },
   "outputs": [],
   "source": [
    "plot_backtest(forecast_df, ts_filled_na, history_len=70)"
   ]
  },
  {
   "cell_type": "markdown",
   "metadata": {
    "id": "L_fQD-AhxdD_"
   },
   "source": [
    "Исходя из статистики по каждому ряду, какой можно сделать вывод о том, как лучше предсказывать итоговое значение? Посчитайте то же самое исходя из MAE."
   ]
  },
  {
   "cell_type": "markdown",
   "metadata": {
    "id": "VMtptJUBDQiO"
   },
   "source": [
    "Cчитала сразу для SWAPE и MAE, лучше считать по SWAPE"
   ]
  },
  {
   "cell_type": "markdown",
   "metadata": {
    "id": "EYg9fLyXxdD_"
   },
   "source": [
    "### Задание 4. Иерархический временной ряд (2 балла)\n",
    "\n",
    "Вопрос, поставленный в прошлом задании, тем не менее, естественным образом подводит нас к концепции **иерархического временного ряда** (когда один ряд состоит из других в качестве компонент). Это полезная концепция, которая может встретиться во многих задачах. В этом задании вам предстоит самостоятельно разобраться в деталях ее реализации в ETNA с использованием справочных материалов, предоставляемых библиотекой (как это часто бывает на практике). Они содержатся по следующей ссылке:\n",
    "\n",
    "https://github.com/etna-team/etna/blob/master/examples/303-hierarchical_pipeline.ipynb\n",
    "\n",
    "На выходе из первой части задания необходимо получить `TSDataset` с иерархической структурой, а также соответствующий реконсилятор, который позволит собирать искомый ряд из составных компонент. Классы, которые вам понадобятся, импортированы ниже."
   ]
  },
  {
   "cell_type": "code",
   "execution_count": null,
   "metadata": {
    "id": "qRiAQsoYxdD_"
   },
   "outputs": [],
   "source": [
    "from etna.datasets import HierarchicalStructure\n",
    "from etna.pipeline import HierarchicalPipeline\n",
    "from etna.reconciliation import TopDownReconciliator"
   ]
  },
  {
   "cell_type": "code",
   "execution_count": null,
   "metadata": {
    "colab": {
     "base_uri": "https://localhost:8080/",
     "height": 286
    },
    "id": "jyFCIGrhxdD_",
    "outputId": "ab68cd9d-a45d-41a3-f8bf-e458ba7714e2"
   },
   "outputs": [],
   "source": [
    "segment = list(map(str, df_etna.segment.unique()))\n",
    "\n",
    "hierarchical_structure = HierarchicalStructure(\n",
    "    level_structure={\"target\": segment}, level_names=[\"target\", \"segment\"]\n",
    ")\n",
    "\n",
    "hierarchical_ts = TSDataset(df=df_etna, freq=\"D\", hierarchical_structure=hierarchical_structure)\n",
    "\n",
    "hierarchical_ts.head()"
   ]
  },
  {
   "cell_type": "code",
   "execution_count": null,
   "metadata": {
    "colab": {
     "base_uri": "https://localhost:8080/",
     "height": 35
    },
    "id": "N07dKpjnIs0z",
    "outputId": "e879c0ce-9ff3-48a5-e9e5-882ad6829d25"
   },
   "outputs": [],
   "source": [
    "hierarchical_ts.current_df_level"
   ]
  },
  {
   "cell_type": "markdown",
   "metadata": {
    "id": "u0unu6V5M_vG"
   },
   "source": [
    "TopDownReconciliator не может работать с отрицательными числами, поэтому прибавим константу"
   ]
  },
  {
   "cell_type": "code",
   "execution_count": null,
   "metadata": {
    "colab": {
     "base_uri": "https://localhost:8080/"
    },
    "id": "bWnjLnjgNKvQ",
    "outputId": "35a4248e-e791-43c0-d502-220e7e295e19"
   },
   "outputs": [],
   "source": [
    "df_etna['target'].min()"
   ]
  },
  {
   "cell_type": "code",
   "execution_count": null,
   "metadata": {
    "colab": {
     "base_uri": "https://localhost:8080/",
     "height": 204
    },
    "id": "2L__vqG0NUhD",
    "outputId": "9c78e6ec-5e85-47eb-f550-2e054d23fb67"
   },
   "outputs": [],
   "source": [
    "df_etna1 = df_etna.copy()\n",
    "df_etna1['target'] = df_etna1['target'] + 1926\n",
    "df_etna1.head()"
   ]
  },
  {
   "cell_type": "code",
   "execution_count": null,
   "metadata": {
    "colab": {
     "base_uri": "https://localhost:8080/",
     "height": 286
    },
    "id": "L3mgyDPvRWiF",
    "outputId": "76409b64-4c77-4b5c-ea8d-92c095fefbd9"
   },
   "outputs": [],
   "source": [
    "segment = list(map(str, df_etna1.segment.unique()))\n",
    "\n",
    "hierarchical_structure1 = HierarchicalStructure(\n",
    "    level_structure={\"target\": segment}, level_names=[\"target\", \"segment\"]\n",
    ")\n",
    "\n",
    "hierarchical_ts1 = TSDataset(df=df_etna1, freq=\"D\", hierarchical_structure=hierarchical_structure1)\n",
    "\n",
    "hierarchical_ts1.head()"
   ]
  },
  {
   "cell_type": "code",
   "execution_count": null,
   "metadata": {
    "colab": {
     "base_uri": "https://localhost:8080/"
    },
    "id": "RreLH9uYJQJU",
    "outputId": "7ab0a9e1-8efe-4856-b85f-f9edb1245578"
   },
   "outputs": [],
   "source": [
    "ahp_reconciliator = TopDownReconciliator(\n",
    "    target_level=\"segment\", source_level=\"target\", method=\"AHP\", period=6\n",
    ")\n",
    "\n",
    "ahp_reconciliator.fit(ts=hierarchical_ts1)\n",
    "ahp_reconciliator.mapping_matrix.toarray()"
   ]
  },
  {
   "cell_type": "markdown",
   "metadata": {
    "id": "-_zNbkQmxdD_"
   },
   "source": [
    "Во второй части задания примените найденные на предыдущих этапах преобразования очистку от выбросов уже к иерархическому датасету, и запустите на нем Prophet с MAE на кросс-валидации."
   ]
  },
  {
   "cell_type": "code",
   "execution_count": null,
   "metadata": {
    "id": "5eS2mS7sxdD_"
   },
   "outputs": [],
   "source": [
    "hierarchical_ts1.fit_transform([\n",
    "    DensityOutliersTransform(in_column=\"target\",  window_size=18, distance_coef=3, n_neighbors=4),\n",
    "    TimeSeriesImputerTransform(strategy='running_mean'),\n",
    "])"
   ]
  },
  {
   "cell_type": "code",
   "execution_count": null,
   "metadata": {
    "colab": {
     "base_uri": "https://localhost:8080/",
     "height": 1000
    },
    "id": "71RyrjFiToY_",
    "outputId": "5739a20a-3a6d-43c4-fd04-1525f06cc6d5"
   },
   "outputs": [],
   "source": [
    "model = ProphetModel()\n",
    "transforms = []\n",
    "pipeline = Pipeline(model=model, transforms=transforms, horizon=HORIZON)\n",
    "\n",
    "metrics_df_hierh, forecast_df_hierh, fold_info_df_hierh = pipeline.backtest(\n",
    "    ts=hierarchical_ts1, metrics=[MAE()], n_jobs=5\n",
    ")\n",
    "\n",
    "metrics_df_hierh.groupby(['segment']).mean()"
   ]
  },
  {
   "cell_type": "markdown",
   "metadata": {
    "id": "XmauweHxV3Hz"
   },
   "source": [
    "MAE снизилась для каждого сегмента, иерархическая структура имеет место быть"
   ]
  },
  {
   "cell_type": "markdown",
   "metadata": {
    "id": "6Pmu01YdxdEA"
   },
   "source": [
    "### Задание 5. Построение признаков (1.5 балла)\n",
    "\n",
    "Вернемся к нашему исходному мультисегментному ряду - теперь поработаем с моделями, которые требуют построения признаков - `ARIMA` и `CatBoost`. Построим для них признаки, и попробуем при помощи них добиться улучшения качества.\n",
    "\n",
    "Из обязательного:\n",
    "1) постройте графики автокорреляции и при помощи них обоснуйте выбор лаговых признаков\n",
    "2) для катбуста включите в признаки результаты STL разложения. STL используем для убирания тренда за счет преобразования на месте.\n",
    "* Кроме этого, подумайте на экспертном уровне,\n",
    "    - Какие еще закономерности могут присутствовать и почему?\n",
    "    - Что из этого кажется более предсказуемым, и почему?\n",
    "    - Cделайте соответствующие признаки, и снабдите их кратким комментарием.\n",
    "\n",
    "3) После этого, обучите на получившихся признаках модели. Для `CatBoost` рассмотрите 2 версии мультисегментную и на каждый ряд в отдельности.\n",
    "\n",
    "Ниже приведены импорты, которые вам точно понадобятся - к ним необходимо добавить те инструменты, которые вы дополнительно решите использовать в анализе."
   ]
  },
  {
   "cell_type": "code",
   "execution_count": null,
   "metadata": {
    "id": "4NY9cBYixdEA"
   },
   "outputs": [],
   "source": [
    "from etna.analysis import acf_plot, stl_plot\n",
    "from etna.ensembles import DirectEnsemble, StackingEnsemble, VotingEnsemble\n",
    "from etna.models import (CatBoostMultiSegmentModel, CatBoostPerSegmentModel,\n",
    "                         AutoARIMAModel)\n",
    "from etna.transforms import STLTransform, LagTransform, SegmentEncoderTransform, DateFlagsTransform"
   ]
  },
  {
   "cell_type": "code",
   "execution_count": null,
   "metadata": {
    "colab": {
     "base_uri": "https://localhost:8080/",
     "height": 1000
    },
    "id": "3s6RH28XxdEA",
    "outputId": "fa31b216-7a5f-4825-ef02-dab63f773c49"
   },
   "outputs": [],
   "source": [
    "acf_plot(ts_filled_na, lags=50)"
   ]
  },
  {
   "cell_type": "markdown",
   "metadata": {
    "id": "Km64VpbjaWO1"
   },
   "source": [
    "По ACF видно, что пристутствуют статистически значимые автокорелляции с наблюдениями вплоть до 30 лага почти по всем банкоматам. При этом для болльшинства банкоматов наблюдается увеличение коэффициента корреляции на 6,7 лагах"
   ]
  },
  {
   "cell_type": "code",
   "execution_count": null,
   "metadata": {
    "colab": {
     "base_uri": "https://localhost:8080/",
     "height": 1000
    },
    "id": "iXByWeynatq4",
    "outputId": "5f10d65e-8541-4852-cbbd-52f39b89d8c0"
   },
   "outputs": [],
   "source": [
    "acf_plot(ts_filled_na, partial = True, lags=50)"
   ]
  },
  {
   "cell_type": "markdown",
   "metadata": {
    "id": "dVUh2RAac-bz"
   },
   "source": [
    "По графикам видно, что переменная имеет положительную частную корелляцию с 1, 6 и 7 лагам."
   ]
  },
  {
   "cell_type": "markdown",
   "metadata": {
    "id": "dw-yYJoIdPes"
   },
   "source": [
    "ARIMA"
   ]
  },
  {
   "cell_type": "code",
   "execution_count": null,
   "metadata": {
    "colab": {
     "base_uri": "https://localhost:8080/"
    },
    "id": "33KD1jB_dRgj",
    "outputId": "2f8b5c87-70d4-42cb-d2aa-68aeb2090dcd"
   },
   "outputs": [],
   "source": [
    "model = AutoARIMAModel()\n",
    "lags = LagTransform(in_column=\"target\", lags=[6, 7])\n",
    "\n",
    "transforms = [lags]\n",
    "pipeline = Pipeline(model=model, transforms=transforms, horizon=HORIZON)\n",
    "\n",
    "metrics_df, forecast_df, fold_info_df = pipeline.backtest(\n",
    "    ts=ts_filled_na, metrics=[SMAPE(), MAE()], n_jobs=5\n",
    ")"
   ]
  },
  {
   "cell_type": "code",
   "execution_count": null,
   "metadata": {
    "colab": {
     "base_uri": "https://localhost:8080/",
     "height": 700
    },
    "id": "_ZsI1saRdawP",
    "outputId": "0c39082a-50fc-4a60-d6e8-12f0d3a64e20"
   },
   "outputs": [],
   "source": [
    "metrics_df.groupby(['segment']).mean()"
   ]
  },
  {
   "cell_type": "markdown",
   "metadata": {
    "id": "sDljp43SdfxL"
   },
   "source": [
    "CatBoost"
   ]
  },
  {
   "cell_type": "code",
   "execution_count": null,
   "metadata": {
    "colab": {
     "base_uri": "https://localhost:8080/",
     "height": 1000
    },
    "id": "G1ph-cF8dhYs",
    "outputId": "853ae5e2-411d-4c46-e4a4-6953a397c337"
   },
   "outputs": [],
   "source": [
    "stl_plot(ts=ts_filled_na, period=7)"
   ]
  },
  {
   "cell_type": "code",
   "execution_count": null,
   "metadata": {
    "id": "oDLPGn4Gdo3G"
   },
   "outputs": [],
   "source": [
    "stl = STLTransform(in_column=\"target\", period=7, model=\"arima\")\n",
    "transformed_train_ts = deepcopy(ts_filled_na)\n",
    "transformed_train_ts.fit_transform([stl])"
   ]
  },
  {
   "cell_type": "code",
   "execution_count": null,
   "metadata": {
    "colab": {
     "base_uri": "https://localhost:8080/",
     "height": 1000
    },
    "id": "A09ip-mRdsLX",
    "outputId": "acd0986b-c755-40b0-d2b5-048e969a359c"
   },
   "outputs": [],
   "source": [
    "plot_anomalies(\n",
    "    ts=transformed_train_ts,\n",
    "    anomaly_dict=get_anomalies_density(ts=transformed_train_ts, window_size=5, distance_coef=2.5),\n",
    ")"
   ]
  },
  {
   "cell_type": "code",
   "execution_count": null,
   "metadata": {
    "colab": {
     "base_uri": "https://localhost:8080/",
     "height": 1408
    },
    "id": "-7qSV1gMdt4b",
    "outputId": "dcef999e-1e31-42e0-eef8-3b54bd0ea9a2"
   },
   "outputs": [],
   "source": [
    "stl = STLTransform(in_column=\"target\", period=7, model=\"arima\")\n",
    "model = CatBoostMultiSegmentModel()\n",
    "anomaly = DensityOutliersTransform(in_column=\"target\", window_size=5, distance_coef=2.5)\n",
    "seg = SegmentEncoderTransform()\n",
    "\n",
    "transforms = [stl, anomaly, seg]\n",
    "pipeline = Pipeline(model=model, transforms=transforms, horizon=HORIZON)\n",
    "\n",
    "metrics_df, forecast_df, fold_info_df = pipeline.backtest(\n",
    "    ts=ts_filled_na, metrics=[SMAPE(), MAE()], n_jobs=5\n",
    ")\n",
    "\n",
    "metrics_df.groupby(['segment']).mean()"
   ]
  },
  {
   "cell_type": "markdown",
   "metadata": {
    "id": "LTRIhhefe5Rr"
   },
   "source": [
    "CatBoost для каждого сегмента"
   ]
  },
  {
   "cell_type": "code",
   "execution_count": null,
   "metadata": {
    "colab": {
     "base_uri": "https://localhost:8080/",
     "height": 928
    },
    "id": "oNJG-8vKjmQa",
    "outputId": "e63e0e2c-de5f-47b5-f2b4-b30a786fda4e"
   },
   "outputs": [],
   "source": [
    "stl = STLTransform(in_column=\"target\", period=7, model=\"arima\")\n",
    "model = CatBoostPerSegmentModel()\n",
    "anomaly = DensityOutliersTransform(in_column=\"target\", window_size=5, distance_coef=2.5)\n",
    "seg = SegmentEncoderTransform()\n",
    "\n",
    "transforms = [stl, anomaly, seg]\n",
    "pipeline = Pipeline(model=model, transforms=transforms, horizon=HORIZON)\n",
    "\n",
    "metrics_df, forecast_df, fold_info_df = pipeline.backtest(\n",
    "    ts=ts_filled_na, metrics=[SMAPE(), MAE()], n_jobs=5\n",
    ")\n",
    "\n",
    "metrics_df.groupby(['segment']).mean()"
   ]
  },
  {
   "cell_type": "markdown",
   "metadata": {
    "id": "Cyd2QLF-jt-G"
   },
   "source": [
    "Тут я затупила и попыталась написать катбуст для каждого сегмента руками из мультисегментного, забавы ради оставлю))"
   ]
  },
  {
   "cell_type": "code",
   "execution_count": null,
   "metadata": {
    "colab": {
     "base_uri": "https://localhost:8080/",
     "height": 207
    },
    "id": "P9H6qHmme8cD",
    "outputId": "2a06f37c-7321-48c9-db9b-3ac914a3cd93"
   },
   "outputs": [],
   "source": [
    "# import numpy as np\n",
    "\n",
    "# stl = STLTransform(in_column=\"target\", period=7, model=\"arima\")\n",
    "# model = CatBoostMultiSegmentModel()\n",
    "# anomaly = DensityOutliersTransform(in_column=\"target\", window_size=5, distance_coef=2.5)\n",
    "# seg = SegmentEncoderTransform()\n",
    "\n",
    "# transforms = [stl, anomaly, seg]\n",
    "# pipeline = Pipeline(model=model, transforms=transforms, horizon=HORIZON)\n",
    "\n",
    "# metrics = pd.DataFrame({'segment':df_etna.segment.unique(),\n",
    "#                        'metrics':np.nan})\n",
    "\n",
    "# for segment in df_etna.segment.unique():\n",
    "#   metrics_df, forecast_df, fold_info_df = pipeline.backtest(\n",
    "#       ts=ts_filled_na.get_segment(segment), metrics=[SMAPE(), MAE()], n_jobs=5\n",
    "#   )\n",
    "#   metrics.loc[df['segment'] = segment]['metrics'] = metrics_df.mean()\n",
    "\n",
    "# metrics"
   ]
  },
  {
   "cell_type": "markdown",
   "metadata": {
    "id": "QbMi3PDvkP50"
   },
   "source": [
    "Метрики получились относительно высокими (относительно той же профет модели),можно еще попробовать добавить праздничные дни в качестве признаков, наверняка они влияют"
   ]
  },
  {
   "cell_type": "code",
   "execution_count": null,
   "metadata": {
    "id": "AkWJ9QGskRgE"
   },
   "outputs": [],
   "source": [
    "holidays = [1,2,3,4,5,6,7, # new year\n",
    "            54, # 23 feb\n",
    "            67, 68, # 8 mar\n",
    "            121,122,123,124,125,126,127,128,129,130, #may holidays\n",
    "            163,164, #russia day\n",
    "            308,309# день народного единства\n",
    "           ]"
   ]
  },
  {
   "cell_type": "code",
   "execution_count": null,
   "metadata": {
    "colab": {
     "base_uri": "https://localhost:8080/",
     "height": 955
    },
    "id": "6H5x30emlPRj",
    "outputId": "4648b4cb-dc11-4788-852a-9f1f7eac7df6"
   },
   "outputs": [],
   "source": [
    "stl = STLTransform(in_column=\"target\", period=7, model=\"arima\")\n",
    "model = CatBoostMultiSegmentModel()\n",
    "anomaly = DensityOutliersTransform(in_column=\"target\", window_size=5, distance_coef=2.5)\n",
    "seg = SegmentEncoderTransform()\n",
    "d_flags = DateFlagsTransform(day_number_in_year=holidays)\n",
    "\n",
    "transforms = [stl, anomaly, d_flags, seg]\n",
    "pipeline = Pipeline(model=model, transforms=transforms, horizon=HORIZON)\n",
    "\n",
    "metrics_df, forecast_df, fold_info_df = pipeline.backtest(\n",
    "    ts=ts_filled_na, metrics=[SMAPE(), MAE()], n_jobs=5\n",
    ")\n",
    "\n",
    "metrics_df.groupby(['segment']).mean()"
   ]
  },
  {
   "cell_type": "markdown",
   "metadata": {
    "id": "YixTlkE3r7Kg"
   },
   "source": [
    "Профет все равно лучше"
   ]
  },
  {
   "cell_type": "markdown",
   "metadata": {
    "id": "--FWZXsfxdEA"
   },
   "source": [
    "### Задание 6. Стратегии прогнозирования (1.25 балла)\n",
    "\n",
    "Как нам известно по семинарским занятиям, при построении прогноза на горизонте дальше следующего наблюдения перед нами встает задача определиться со стратегией генерации прогноза. Попробуйте разные стратегии на нашем горизонте из 5 дней (прямая, рекурсивная). Какая стратегия в совокупности с какой моделью дает лучший результат?\n",
    "\n",
    "Учитывайте особенности, которые некоторые стратегии могут накладывать на признаки (в частности, на лаговые переменные).\n",
    "\n",
    "При необходимости, в смешанном методе пользуйтесь упрощенной схемой спецификации моделей/преобразований."
   ]
  },
  {
   "cell_type": "code",
   "execution_count": null,
   "metadata": {
    "id": "VwwyPVzbxdEA"
   },
   "outputs": [],
   "source": [
    "from etna.pipeline import AutoRegressivePipeline, Pipeline, assemble_pipelines\n",
    "from etna.ensembles import DirectEnsemble"
   ]
  },
  {
   "cell_type": "code",
   "execution_count": null,
   "metadata": {
    "id": "UXAyx0WOxdEA"
   },
   "outputs": [],
   "source": [
    "stl = STLTransform(in_column=\"target\", period=7, model=\"arima\")\n",
    "anomaly = DensityOutliersTransform(in_column=\"target\", window_size=5, distance_coef=2.5)\n",
    "lags = LagTransform(in_column=\"target\", lags=[1, 6, 7])\n",
    "d_flags = DateFlagsTransform(day_number_in_year=holidays)\n",
    "seg = SegmentEncoderTransform()"
   ]
  },
  {
   "cell_type": "markdown",
   "metadata": {
    "id": "MWsCER54or1_"
   },
   "source": [
    "AutoRegressivePipeline"
   ]
  },
  {
   "cell_type": "code",
   "execution_count": null,
   "metadata": {
    "colab": {
     "base_uri": "https://localhost:8080/"
    },
    "id": "pAhnSPETot0k",
    "outputId": "b11ae53b-fae3-4c46-f7b0-b2f190c461bc"
   },
   "outputs": [],
   "source": [
    "model = ProphetModel()\n",
    "\n",
    "transforms = [lags, anomaly, d_flags]\n",
    "\n",
    "autoregressivepipeline = AutoRegressivePipeline(\n",
    "    model=model, transforms=transforms, horizon=HORIZON, step=1\n",
    ")\n",
    "\n",
    "metrics_recursive_df, forecast_recursive_df, _ = autoregressivepipeline.backtest(\n",
    "    ts=ts_filled_na,\n",
    "    metrics=[SMAPE(), MAE()],\n",
    "    n_jobs=3,\n",
    "    n_folds=3\n",
    ")\n",
    "\n",
    "arp_metrics_prophet = metrics_recursive_df.groupby(['segment']).mean()\n",
    "arp_metrics_prophet['method'] = 'ARP'\n",
    "arp_metrics_prophet['Model'] = 'Prophet'"
   ]
  },
  {
   "cell_type": "code",
   "execution_count": null,
   "metadata": {
    "colab": {
     "base_uri": "https://localhost:8080/"
    },
    "id": "YT8o_G9OowSZ",
    "outputId": "e7dcfd9b-3894-40b8-b27c-c015fdac7797"
   },
   "outputs": [],
   "source": [
    "model = CatBoostMultiSegmentModel()\n",
    "\n",
    "transforms = [stl, anomaly, d_flags, seg]\n",
    "\n",
    "autoregressivepipeline = AutoRegressivePipeline(\n",
    "    model=model, transforms=transforms, horizon=HORIZON, step=1\n",
    ")\n",
    "\n",
    "metrics_recursive_df, forecast_recursive_df, _ = autoregressivepipeline.backtest(\n",
    "    ts=ts_filled_na,\n",
    "    metrics=[SMAPE(), MAE()],\n",
    "    n_jobs=3,\n",
    "    n_folds=3\n",
    ")\n",
    "\n",
    "arp_metrics_cat = metrics_recursive_df.groupby(['segment']).mean()\n",
    "arp_metrics_cat['method'] = 'ARP'\n",
    "arp_metrics_cat['Model'] = 'Catboost'"
   ]
  },
  {
   "cell_type": "markdown",
   "metadata": {
    "id": "OeoC7Z7eoyWa"
   },
   "source": [
    "Pipeline"
   ]
  },
  {
   "cell_type": "code",
   "execution_count": null,
   "metadata": {
    "colab": {
     "base_uri": "https://localhost:8080/"
    },
    "id": "brJ0VYeUo3FO",
    "outputId": "6bafa470-f4ef-4de3-f0ff-df79c81774e7"
   },
   "outputs": [],
   "source": [
    "model = ProphetModel()\n",
    "\n",
    "lags_pipe = LagTransform(in_column=\"target\", lags=[6,7])\n",
    "\n",
    "transforms = [lags_pipe, anomaly, d_flags]\n",
    "\n",
    "pipeline = Pipeline(model=model, transforms=transforms, horizon=HORIZON)\n",
    "\n",
    "metrics_df, forecast_df, fold_info_df = pipeline.backtest(\n",
    "    ts=ts_filled_na,\n",
    "    metrics=[SMAPE(), MAE()],\n",
    "    n_jobs=3,\n",
    "    n_folds=3\n",
    ")\n",
    "\n",
    "pipe_metrics_prophet = metrics_df.groupby(['segment']).mean()\n",
    "pipe_metrics_prophet['method'] = 'Pipeline'\n",
    "pipe_metrics_prophet['Model'] = 'Prophet'"
   ]
  },
  {
   "cell_type": "code",
   "execution_count": null,
   "metadata": {
    "colab": {
     "base_uri": "https://localhost:8080/"
    },
    "id": "8jVCEQdMo5jJ",
    "outputId": "214c89ec-255b-465d-c824-ebe6f9ca890a"
   },
   "outputs": [],
   "source": [
    "model = CatBoostMultiSegmentModel()\n",
    "\n",
    "transforms = [stl, anomaly, d_flags, seg]\n",
    "\n",
    "pipeline = Pipeline(model=model, transforms=transforms, horizon=HORIZON)\n",
    "\n",
    "metrics_df, forecast_df, fold_info_df = pipeline.backtest(\n",
    "    ts=ts_filled_na,\n",
    "    metrics=[SMAPE(), MAE()],\n",
    "    n_jobs=3,\n",
    "    n_folds=3\n",
    ")\n",
    "\n",
    "pipe_metrics_cat = metrics_df.groupby(['segment']).mean()\n",
    "pipe_metrics_cat['method'] = 'Pipeline'\n",
    "pipe_metrics_cat['Model'] = 'Catboost'"
   ]
  },
  {
   "cell_type": "code",
   "execution_count": null,
   "metadata": {
    "colab": {
     "base_uri": "https://localhost:8080/",
     "height": 35
    },
    "id": "ZmoQWD5so72-",
    "outputId": "563d1d65-039d-45a6-8b25-eec11d421cc2"
   },
   "outputs": [],
   "source": [
    "pipe_metrics_cat['method'][0]"
   ]
  },
  {
   "cell_type": "code",
   "execution_count": null,
   "metadata": {
    "id": "GUf--9vxo9ii"
   },
   "outputs": [],
   "source": [
    "df_metrics = [arp_metrics_prophet, arp_metrics_cat, pipe_metrics_prophet, pipe_metrics_cat]\n",
    "res = pd.DataFrame()\n",
    "\n",
    "for df in df_metrics:\n",
    "    meth = df['method'][0]\n",
    "    model = df['Model'][0]\n",
    "    res[f'SMAPE_{meth}_{model}'] = df['SMAPE']\n",
    "    # res[f'MAE_{meth}_{model}'] = df['MAE']"
   ]
  },
  {
   "cell_type": "code",
   "execution_count": null,
   "metadata": {
    "colab": {
     "base_uri": "https://localhost:8080/",
     "height": 700
    },
    "id": "2PFcLYAmo_uE",
    "outputId": "dc8cb16a-1f26-4710-ed25-9cac34e96868"
   },
   "outputs": [],
   "source": [
    "res"
   ]
  },
  {
   "cell_type": "markdown",
   "metadata": {
    "id": "KKRLw1-FrsQK"
   },
   "source": [
    "Почему-то для Catboost метрики получились одинаковые для обоих методов, а для Prophet лучше использовать Pipeline"
   ]
  },
  {
   "cell_type": "markdown",
   "metadata": {
    "id": "k64H79kKxdEB"
   },
   "source": [
    "### Задание 7. Ансамбли (1.25 балла)\n",
    "\n",
    "Чтобы не выбирать лучшую модель, мы можем использовать преимущества каждой - давайте объединим все наши наработки в ансамбль. Попробуйте различные опции ансамблирования, и выберите ту, которая работает лучше всего (не забывайте, что внутри каждого ансамбля у нас тоже есть параметры, которые мы можем варьировать - веса в voting, включаемые признаки в stacking)."
   ]
  },
  {
   "cell_type": "code",
   "execution_count": null,
   "metadata": {
    "id": "NHCY9d7WxdEB"
   },
   "outputs": [],
   "source": [
    "from etna.ensembles import StackingEnsemble, VotingEnsemble"
   ]
  },
  {
   "cell_type": "code",
   "execution_count": null,
   "metadata": {
    "id": "pkez7XN9q_ci"
   },
   "outputs": [],
   "source": [
    "model = SeasonalMovingAverageModel(window=30, seasonality=7)\n",
    "\n",
    "transforms = []\n",
    "\n",
    "pipeline = Pipeline(model=model, transforms=transforms, horizon=HORIZON)\n",
    "\n",
    "metrics_df, forecast_df, fold_info_df = pipeline.backtest(\n",
    "    ts=ts_filled_na,\n",
    "    metrics=[SMAPE(), MAE()],\n",
    "    n_jobs=5,\n",
    "    n_folds=5\n",
    ")\n",
    "\n",
    "metrics_df.groupby(['segment']).mean()"
   ]
  },
  {
   "cell_type": "code",
   "execution_count": null,
   "metadata": {
    "id": "13XaAXvgrBQs"
   },
   "outputs": [],
   "source": [
    "plot_backtest(forecast_df, ts_wo_na, history_len=70)"
   ]
  },
  {
   "cell_type": "markdown",
   "metadata": {
    "id": "oFmfGhVZrEnJ"
   },
   "source": [
    "В принципе SeasonalMovingAverageModel хорошо себя показывает исходя из метрик, поэтому ее тоже включим в ансамбль"
   ]
  },
  {
   "cell_type": "code",
   "execution_count": null,
   "metadata": {
    "id": "fyAVASIrrGW1"
   },
   "outputs": [],
   "source": [
    "stl = STLTransform(in_column=\"target\", period=7, model=\"arima\")\n",
    "anomaly = DensityOutliersTransform(in_column=\"target\", window_size=5, distance_coef=2.5)\n",
    "lags = LagTransform(in_column=\"target\", lags=[6, 7])\n",
    "d_flags = DateFlagsTransform(day_number_in_year=holidays)\n",
    "seg = SegmentEncoderTransform()"
   ]
  },
  {
   "cell_type": "code",
   "execution_count": null,
   "metadata": {
    "id": "F0LltmXOrUI9"
   },
   "outputs": [],
   "source": [
    "catboost_pipeline = Pipeline(\n",
    "    model=CatBoostMultiSegmentModel(),\n",
    "    transforms=[stl, anomaly, d_flags, seg],\n",
    "    horizon=HORIZON,\n",
    ")\n",
    "\n",
    "seasonalma_pipeline = Pipeline(\n",
    "    model=SeasonalMovingAverageModel(window=30, seasonality=7),\n",
    "    transforms=[],\n",
    "    horizon=HORIZON,\n",
    ")\n",
    "\n",
    "prophet_pipeline = Pipeline(\n",
    "    model=ProphetModel(),\n",
    "    transforms=[lags, anomaly, d_flags],\n",
    "    horizon=HORIZON,\n",
    ")\n",
    "\n",
    "pipeline_names = [\"catboost\", \"moving average\", \"prophet\"]\n",
    "pipelines = [catboost_pipeline, seasonalma_pipeline, prophet_pipeline]"
   ]
  },
  {
   "cell_type": "code",
   "execution_count": null,
   "metadata": {
    "id": "tvActVHWrVxx"
   },
   "outputs": [],
   "source": [
    "voting_ensemble = VotingEnsemble(pipelines=pipelines, weights=[1, 3, 6], n_jobs=4)\n",
    "\n",
    "voting_ensamble_metrics, _, _ = voting_ensemble.backtest(\n",
    "    ts=ts_filled_na,\n",
    "    metrics=[MAE(), SMAPE()],\n",
    "    n_folds=5,\n",
    "    aggregate_metrics=True,\n",
    "    n_jobs=5,\n",
    ")\n",
    "\n",
    "voting_ensamble_metrics"
   ]
  },
  {
   "cell_type": "code",
   "execution_count": null,
   "metadata": {
    "id": "jxtcQOBgrXP-"
   },
   "outputs": [],
   "source": [
    "stacking_ensemble = StackingEnsemble(\n",
    "    pipelines=pipelines, n_folds=10, n_jobs=4, features_to_use='all'\n",
    ")\n",
    "\n",
    "stacking_ensemble_metrics, _, _ = stacking_ensemble.backtest(\n",
    "    ts=ts_filled_na,\n",
    "    metrics=[MAE(), SMAPE()],\n",
    "    n_folds=5,\n",
    "    aggregate_metrics=True,\n",
    "    n_jobs=2,\n",
    ")\n",
    "\n",
    "stacking_ensemble_metrics"
   ]
  },
  {
   "cell_type": "markdown",
   "metadata": {
    "id": "rvtURbpZxdEB"
   },
   "source": [
    "### Задание 8*. Трансформер (бонус 2 балла)\n",
    "\n",
    "Для желающих протестировать мощь трансформенных моделей предлагается \"завести\" модель из второго семинара по временным рядам на текущем датасете. На этот раз абсолютно все необходимые импорты и зависимости подгружаются на ваше усмотрение. Удалось ли вам улучшить качество по сравнению с классическими моделями / моделями на основе ML? Что бы вы предпочли внедрить в production?"
   ]
  },
  {
   "cell_type": "markdown",
   "metadata": {
    "id": "1mhaO9gVxdEB"
   },
   "source": [
    "*NB:* все, конечно, прекрасно знают механизм работы бонусных заданий, но порядка ряди прописать дисклеймер должны - итоговый балл за домашнее задание ставится по формуле min(10, ваш суммарный балл за задания)."
   ]
  },
  {
   "cell_type": "code",
   "execution_count": null,
   "metadata": {
    "id": "qrG-IinKxdEC"
   },
   "outputs": [],
   "source": [
    "#YOUR CODE HERE#"
   ]
  }
 ],
 "metadata": {
  "accelerator": "GPU",
  "colab": {
   "gpuType": "T4",
   "provenance": []
  },
  "kernelspec": {
   "display_name": "Python 3",
   "name": "python3"
  },
  "language_info": {
   "codemirror_mode": {
    "name": "ipython",
    "version": 3
   },
   "file_extension": ".py",
   "mimetype": "text/x-python",
   "name": "python",
   "nbconvert_exporter": "python",
   "pygments_lexer": "ipython3",
   "version": "3.10.9"
  }
 },
 "nbformat": 4,
 "nbformat_minor": 0
}
